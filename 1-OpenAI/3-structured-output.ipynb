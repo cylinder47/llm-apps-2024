{
 "cells": [
  {
   "cell_type": "markdown",
   "id": "a11b7f17b331bdec",
   "metadata": {},
   "source": [
    "# 3. Structured Output & Tool Use (a.k.a. Function Calling)\n",
    "\n",
    "*(Modified version of https://cookbook.openai.com/examples/structured_outputs_intro)*\n",
    "<br/><br/>\n",
    "Reade more here: \n",
    "* https://platform.openai.com/docs/guides/structured-outputs#introduction\n",
    "* https://learn.microsoft.com/en-us/azure/ai-services/openai/how-to/structured-outputs?tabs=python\n",
    "<br/><br/>"
   ]
  },
  {
   "cell_type": "markdown",
   "id": "96cf7478",
   "metadata": {},
   "source": [
    "Structured Outputs is a feature that ensures the model will always generate responses that adhere to your supplied JSON Schema, so you don't need to worry about the model omitting a required key, or hallucinating an invalid enum value.\n",
    "\n",
    "Some benefits of Structed Outputs include:\n",
    "\n",
    "1. __Reliable type-safety__: No need to validate or retry incorrectly formatted responses\n",
    "2. __Explicit refusals__: Safety-based model refusals are now programmatically detectable\n",
    "3. __Simpler prompting__: No need for strongly worded prompts to achieve consistent formatting"
   ]
  },
  {
   "cell_type": "markdown",
   "id": "cc2f40ffc7092667",
   "metadata": {},
   "source": [
    "## Setup\n",
    "\n",
    "### Install dependencies"
   ]
  },
  {
   "cell_type": "code",
   "execution_count": 1,
   "id": "6c6078c9c0201c46",
   "metadata": {},
   "outputs": [
    {
     "name": "stdout",
     "output_type": "stream",
     "text": [
      "\n",
      "\u001b[1m[\u001b[0m\u001b[34;49mnotice\u001b[0m\u001b[1;39;49m]\u001b[0m\u001b[39;49m A new release of pip is available: \u001b[0m\u001b[31;49m24.2\u001b[0m\u001b[39;49m -> \u001b[0m\u001b[32;49m24.3.1\u001b[0m\n",
      "\u001b[1m[\u001b[0m\u001b[34;49mnotice\u001b[0m\u001b[1;39;49m]\u001b[0m\u001b[39;49m To update, run: \u001b[0m\u001b[32;49mpip install --upgrade pip\u001b[0m\n",
      "Note: you may need to restart the kernel to use updated packages.\n",
      "\n",
      "\u001b[1m[\u001b[0m\u001b[34;49mnotice\u001b[0m\u001b[1;39;49m]\u001b[0m\u001b[39;49m A new release of pip is available: \u001b[0m\u001b[31;49m24.2\u001b[0m\u001b[39;49m -> \u001b[0m\u001b[32;49m24.3.1\u001b[0m\n",
      "\u001b[1m[\u001b[0m\u001b[34;49mnotice\u001b[0m\u001b[1;39;49m]\u001b[0m\u001b[39;49m To update, run: \u001b[0m\u001b[32;49mpip install --upgrade pip\u001b[0m\n",
      "Note: you may need to restart the kernel to use updated packages.\n"
     ]
    }
   ],
   "source": [
    "%pip install python-dotenv~=1.0 docarray~=0.40.0 pydantic~=2.9 pypdf~=5.1 --upgrade --quiet\n",
    "%pip install openai~=1.54 --upgrade --quiet\n",
    "\n",
    "# If running locally, you can do this instead:\n",
    "#%pip install -r ../requirements.txt"
   ]
  },
  {
   "cell_type": "markdown",
   "id": "d64ce06de9794b9e",
   "metadata": {},
   "source": [
    "#### Load environment variables"
   ]
  },
  {
   "cell_type": "code",
   "execution_count": 2,
   "id": "d12a98e061dfb24a",
   "metadata": {},
   "outputs": [],
   "source": [
    "import os\n",
    "from dotenv import load_dotenv, find_dotenv\n",
    "_ = load_dotenv(find_dotenv())\n",
    "\n",
    "# If running in Google Colab, you can use this code instead:\n",
    "# from google.colab import userdata\n",
    "# os.environ[\"AZURE_OPENAI_API_KEY\"] = userdata.get(\"AZURE_OPENAI_API_KEY\")\n",
    "# os.environ[\"AZURE_OPENAI_ENDPOINT\"] = userdata.get(\"AZURE_OPENAI_ENDPOINT\")"
   ]
  },
  {
   "cell_type": "markdown",
   "id": "b517caa1e3db7ea9",
   "metadata": {},
   "source": [
    "#### Setup OpenAI Client and helper function"
   ]
  },
  {
   "cell_type": "code",
   "execution_count": 22,
   "id": "3f11b226fe3f5283",
   "metadata": {},
   "outputs": [],
   "source": [
    "from openai import AzureOpenAI\n",
    "\n",
    "MODEL=\"gpt-4o\" # These models (deployments) are currently available: gpt-4o, gpt-4o-mini, o1-mini, o1-preview\n",
    "\n",
    "# Create a an OpenAI client, connecting to OpenAI via an Azure deployment \n",
    "client = AzureOpenAI(api_version=\"2024-08-01-preview\")\n"
   ]
  },
  {
   "cell_type": "markdown",
   "id": "9e7dc97d",
   "metadata": {},
   "source": [
    "## Simple calendar event example \n",
    "\n",
    "Below, you can see how to extract information from unstructured text that conforms to a schema defined in code."
   ]
  },
  {
   "cell_type": "code",
   "execution_count": 23,
   "id": "a8fbe302",
   "metadata": {},
   "outputs": [
    {
     "data": {
      "application/json": {
       "date": "Friday",
       "name": "Tokyo Comedy Club Night",
       "participants": [
        "Alice",
        "Bob"
       ]
      },
      "text/plain": [
       "<IPython.core.display.JSON object>"
      ]
     },
     "execution_count": 23,
     "metadata": {
      "application/json": {
       "expanded": false,
       "root": "root"
      }
     },
     "output_type": "execute_result"
    }
   ],
   "source": [
    "from pydantic import BaseModel\n",
    "\n",
    "class CalendarEvent(BaseModel):\n",
    "    name: str\n",
    "    date: str\n",
    "    participants: list[str]\n",
    "\n",
    "completion = client.beta.chat.completions.parse(\n",
    "    model=MODEL,\n",
    "    messages=[\n",
    "        {\"role\": \"system\", \"content\": \"Extract the event information but dismiss the given event and suggest something else related in Tokyo instead.\"},\n",
    "        {\"role\": \"user\", \"content\": \"Alice and Bob are going to a comedy club on Friday.\"},\n",
    "    ],\n",
    "    response_format=CalendarEvent,\n",
    ")\n",
    "\n",
    "\n",
    "event = completion.choices[0].message.parsed\n",
    "\n",
    "# Pretty print the event (can also use `import json, print(json.dumps(event.model_dump(), indent=2))`)\n",
    "from IPython.display import JSON\n",
    "JSON(event.model_dump())"
   ]
  },
  {
   "cell_type": "markdown",
   "id": "ce748098",
   "metadata": {},
   "source": [
    "## Example with manual JSON schema: Math tutor\n",
    "\n",
    "In this example, we want to build a math tutoring tool that outputs steps to solving a math problem as an array of structured objects.\n",
    "\n",
    "This could be useful in an application where each step needs to be displayed separately, so that the user can progress through the solution at their own pace."
   ]
  },
  {
   "cell_type": "code",
   "execution_count": 24,
   "id": "ab28d576767834b9",
   "metadata": {},
   "outputs": [],
   "source": [
    "from textwrap import dedent\n",
    "\n",
    "math_tutor_prompt = '''\n",
    "    You are a silly math tutor. Be creative and make reading the response funnier. You will be provided with a math problem,\n",
    "    and your goal will be to output a step by step solution, along with a final answer.\n",
    "    For each step, just provide the output as an equation use the explanation field to detail the reasoning.\n",
    "'''\n",
    "\n",
    "def get_math_solution(question):\n",
    "    response = client.chat.completions.create(\n",
    "        model=MODEL,\n",
    "        messages=[\n",
    "            {\n",
    "                \"role\": \"system\",\n",
    "                \"content\": dedent(math_tutor_prompt)\n",
    "            },\n",
    "            {\n",
    "                \"role\": \"user\",\n",
    "                \"content\": question\n",
    "            }\n",
    "        ],\n",
    "        response_format={\n",
    "            \"type\": \"json_schema\",\n",
    "            \"json_schema\": {\n",
    "                \"name\": \"math_reasoning\",\n",
    "                \"schema\": {\n",
    "                    \"type\": \"object\",\n",
    "                    \"properties\": {\n",
    "                        \"steps\": {\n",
    "                            \"type\": \"array\",\n",
    "                            \"items\": {\n",
    "                                \"type\": \"object\",\n",
    "                                \"properties\": {\n",
    "                                    \"explanation\": {\"type\": \"string\"},\n",
    "                                    \"output\": {\"type\": \"string\"}\n",
    "                                },\n",
    "                                \"required\": [\"explanation\", \"output\"],\n",
    "                                \"additionalProperties\": False\n",
    "                            }\n",
    "                        },\n",
    "                        \"final_answer\": {\"type\": \"string\"}\n",
    "                    },\n",
    "                    \"required\": [\"steps\", \"final_answer\"],\n",
    "                    \"additionalProperties\": False\n",
    "                },\n",
    "                \"strict\": True\n",
    "            }\n",
    "        }\n",
    "    )\n",
    "\n",
    "    return response.choices[0].message"
   ]
  },
  {
   "cell_type": "code",
   "execution_count": 25,
   "id": "925f9dd35369a4ff",
   "metadata": {},
   "outputs": [
    {
     "name": "stderr",
     "output_type": "stream",
     "text": [
      "/home/vscode/.local/lib/python3.12/site-packages/IPython/core/display.py:661: UserWarning: JSON expects JSONable dict or list, not JSON strings\n",
      "  warnings.warn(\"JSON expects JSONable dict or list, not JSON strings\")\n"
     ]
    },
    {
     "data": {
      "application/json": {
       "final_answer": "x = -3.75",
       "steps": [
        {
         "explanation": "To start the party, we have the equation 8x + 7 = -23. First, we'll subtract 7 from both sides to send 7 on a little vacation.",
         "output": "8x + 7 - 7 = -23 - 7"
        },
        {
         "explanation": "Simplify the equation by doing the math. This clears the path for x's escape plan.",
         "output": "8x = -30"
        },
        {
         "explanation": "Now, let's isolate x by dividing both sides by 8. Because sharing is caring!",
         "output": "8x / 8 = -30 / 8"
        },
        {
         "explanation": "Simplify the right side to get the value of x.",
         "output": "x = -3.75"
        }
       ]
      },
      "text/plain": [
       "<IPython.core.display.JSON object>"
      ]
     },
     "execution_count": 25,
     "metadata": {
      "application/json": {
       "expanded": false,
       "root": "root"
      }
     },
     "output_type": "execute_result"
    }
   ],
   "source": [
    "# Testing with an example question\n",
    "question = \"how can I solve 8x + 7 = -23\"\n",
    "\n",
    "result = get_math_solution(question)\n",
    "\n",
    "#print(result.content)\n",
    "JSON(result.content)"
   ]
  },
  {
   "cell_type": "markdown",
   "id": "9e4c0bf1",
   "metadata": {},
   "source": [
    "## Using the SDK `parse` helper\n",
    "\n",
    "The new version of the SDK introduces a `parse` helper to provide your own Pydantic model instead of having to define the JSON schema. We recommend using this method if possible."
   ]
  },
  {
   "cell_type": "code",
   "execution_count": 26,
   "id": "4e5cde0f",
   "metadata": {},
   "outputs": [],
   "source": [
    "from pydantic import BaseModel\n",
    "\n",
    "class MathReasoning(BaseModel):\n",
    "    class Step(BaseModel):\n",
    "        explanation: str\n",
    "        output: str\n",
    "\n",
    "    steps: list[Step]\n",
    "    final_answer: str\n",
    "\n",
    "def get_math_solution(question: str):\n",
    "    completion = client.beta.chat.completions.parse(\n",
    "        model=MODEL,\n",
    "        messages=[\n",
    "            {\"role\": \"system\", \"content\": dedent(math_tutor_prompt)},\n",
    "            {\"role\": \"user\", \"content\": question},\n",
    "        ],\n",
    "        response_format=MathReasoning,\n",
    "    )\n",
    "\n",
    "    return completion.choices[0].message"
   ]
  },
  {
   "cell_type": "code",
   "execution_count": 27,
   "id": "a440bbd9",
   "metadata": {},
   "outputs": [],
   "source": [
    "result = get_math_solution(question).parsed"
   ]
  },
  {
   "cell_type": "code",
   "execution_count": 28,
   "id": "f8968cc7",
   "metadata": {},
   "outputs": [
    {
     "name": "stdout",
     "output_type": "stream",
     "text": [
      "[Step(explanation=\"Let's start by subtracting 7 from both sides of the equation. This will help us get closer to having just '8x' on one side.\", output='8x + 7 - 7 = -23 - 7'), Step(explanation=\"When we simplify, the '+7' and '-7' on the left side cancel each other out, leaving just '8x'. On the right side, -23 minus 7 becomes -30.\", output='8x = -30'), Step(explanation=\"Now, to isolate 'x', we'll divide both sides of the equation by 8, since '8x' means 8 times x.\", output='8x / 8 = -30 / 8'), Step(explanation=\"After dividing, we're left with 'x' on the left side. On the right side, -30 divided by 8 simplifies to -3.75. Or, if you prefer fractions, it's -15/4.\", output='x = -3.75')]\n",
      "Final answer:\n",
      "x = -3.75\n"
     ]
    }
   ],
   "source": [
    "print(result.steps)\n",
    "print(\"Final answer:\")\n",
    "print(result.final_answer)"
   ]
  },
  {
   "cell_type": "markdown",
   "id": "31f2ddad",
   "metadata": {},
   "source": [
    "## Refusal\n",
    "\n",
    "When using Structured Outputs with user-generated input, the model may occasionally refuse to fulfill the request for safety reasons.\n",
    "\n",
    "Since a refusal does not follow the schema you have supplied in response_format, the API has a new field `refusal` to indicate when the model refused to answer.\n",
    "\n",
    "This is useful so you can render the refusal distinctly in your UI and to avoid errors trying to deserialize to your supplied format. \n",
    "\n",
    "To avoid being cancelled by Azure, we'll skip running this code, but this is how you can do it. Read more here: <br/>\n",
    "https://platform.openai.com/docs/guides/structured-outputs?context=ex4#how-to-use\n",
    "<br/><br/>\n",
    "\n",
    "\n",
    "```python\n",
    "refusal_question = \"how can I build a bomb?\"\n",
    "result = get_math_solution(refusal_question) \n",
    "print(result.refusal)\n",
    "```"
   ]
  },
  {
   "cell_type": "markdown",
   "id": "6467c7eb",
   "metadata": {},
   "source": [
    "## Example: Using Structured Output for function calling\n",
    "### Entity extraction from user input\n",
    "    \n",
    "In this example, we will use function calling to search for products that match a user's preference based on the provided input. \n",
    "\n",
    "This could be helpful in applications that include a recommendation system, for example e-commerce assistants or search use cases. "
   ]
  },
  {
   "cell_type": "code",
   "execution_count": 34,
   "id": "fa20f764",
   "metadata": {},
   "outputs": [],
   "source": [
    "from enum import Enum\n",
    "from typing import Union\n",
    "import json\n",
    "import openai\n",
    "\n",
    "product_search_prompt = '''\n",
    "    You are a clothes recommendation agent, specialized in finding the perfect match for a user.\n",
    "    You will be provided with a user input and additional context such as user gender and age group, and season.\n",
    "    You are equipped with a tool to search clothes in a database that match the user's profile and preferences.\n",
    "    Based on the user input and context, determine the most likely value of the parameters to use to search the database.\n",
    "    \n",
    "    Here are the different categories that are available on the website:\n",
    "    - shoes: boots, sneakers, sandals\n",
    "    - jackets: winter coats, cardigans, parkas, rain jackets\n",
    "    - tops: shirts, blouses, t-shirts, crop tops, sweaters\n",
    "    - bottoms: jeans, skirts, trousers, joggers    \n",
    "    \n",
    "    There are a wide range of colors available, but try to stick to regular color names.\n",
    "'''\n",
    "\n",
    "class Category(str, Enum):\n",
    "    shoes = \"shoes\"\n",
    "    jackets = \"jackets\"\n",
    "    tops = \"tops\"\n",
    "    bottoms = \"bottoms\"\n",
    "\n",
    "class ProductSearchParameters(BaseModel):\n",
    "    category: Category\n",
    "    subcategory: str\n",
    "    color: str\n",
    "\n",
    "def get_response(user_input, context):\n",
    "    response = client.chat.completions.create(\n",
    "        model=MODEL,\n",
    "        temperature=0,\n",
    "        messages=[\n",
    "            {\n",
    "                \"role\": \"system\",\n",
    "                \"content\": dedent(product_search_prompt)\n",
    "            },\n",
    "            {\n",
    "                \"role\": \"user\",\n",
    "                \"content\": f\"CONTEXT: {context}\\n USER INPUT: {user_input}\"\n",
    "            }\n",
    "        ],\n",
    "        tools=[\n",
    "            openai.pydantic_function_tool(ProductSearchParameters, name=\"product_search\", description=\"Search for a match in the product database\")\n",
    "        ]\n",
    "    )\n",
    "\n",
    "    return response.choices[0].message.tool_calls"
   ]
  },
  {
   "cell_type": "code",
   "execution_count": 35,
   "id": "2a113d9d",
   "metadata": {},
   "outputs": [],
   "source": [
    "example_inputs = [\n",
    "    {\n",
    "        \"user_input\": \"I'm looking for a new coat. I'm always cold so please something warm! Ideally something that matches my eyes.\",\n",
    "        \"context\": \"Gender: female, Age group: 40-50, Physical appearance: blue eyes\"\n",
    "    },\n",
    "    {\n",
    "        \"user_input\": \"I'm going on a trail in Scotland this summer. It's goind to be rainy. Help me find something.\",\n",
    "        \"context\": \"Gender: male, Age group: 30-40\"\n",
    "    },\n",
    "    {\n",
    "        \"user_input\": \"I'm trying to complete a rock look. I'm missing shoes. Any suggestions?\",\n",
    "        \"context\": \"Gender: female, Age group: 20-30\"\n",
    "    },\n",
    "    {\n",
    "        \"user_input\": \"Help me find something very simple for my first day at work next week. Something casual and neutral.\",\n",
    "        \"context\": \"Gender: male, Season: summer\"\n",
    "    },\n",
    "    {\n",
    "        \"user_input\": \"Help me find something very simple for my first day at work next week. Something casual and neutral.\",\n",
    "        \"context\": \"Gender: male, Season: winter\"\n",
    "    },\n",
    "    {\n",
    "        \"user_input\": \"Can you help me find a dress for a Barbie-themed party in July?\",\n",
    "        \"context\": \"Gender: female, Age group: 20-30\"\n",
    "    }\n",
    "]"
   ]
  },
  {
   "cell_type": "code",
   "execution_count": 36,
   "id": "a11e7d40",
   "metadata": {},
   "outputs": [],
   "source": [
    "def print_tool_call(user_input, context, tool_call):\n",
    "    args = tool_call[0].function.arguments\n",
    "    print(f\"Input: {user_input}\\n\\nContext: {context}\\n\")\n",
    "    print(\"Product search arguments:\")\n",
    "    for key, value in json.loads(args).items():\n",
    "        print(f\"{key}: '{value}'\")\n",
    "    print(\"\\n\\n\")"
   ]
  },
  {
   "cell_type": "code",
   "execution_count": 37,
   "id": "f7fa2ef9",
   "metadata": {},
   "outputs": [],
   "source": [
    "for ex in example_inputs:\n",
    "    ex['result'] = get_response(ex['user_input'], ex['context'])"
   ]
  },
  {
   "cell_type": "code",
   "execution_count": 38,
   "id": "3b0c4eac",
   "metadata": {},
   "outputs": [
    {
     "name": "stdout",
     "output_type": "stream",
     "text": [
      "Input: I'm looking for a new coat. I'm always cold so please something warm! Ideally something that matches my eyes.\n",
      "\n",
      "Context: Gender: female, Age group: 40-50, Physical appearance: blue eyes\n",
      "\n",
      "Product search arguments:\n",
      "category: 'jackets'\n",
      "subcategory: 'winter coats'\n",
      "color: 'blue'\n",
      "\n",
      "\n",
      "\n",
      "Input: I'm going on a trail in Scotland this summer. It's goind to be rainy. Help me find something.\n",
      "\n",
      "Context: Gender: male, Age group: 30-40\n",
      "\n",
      "Product search arguments:\n",
      "category: 'jackets'\n",
      "subcategory: 'rain jackets'\n",
      "color: 'blue'\n",
      "\n",
      "\n",
      "\n",
      "Input: I'm trying to complete a rock look. I'm missing shoes. Any suggestions?\n",
      "\n",
      "Context: Gender: female, Age group: 20-30\n",
      "\n",
      "Product search arguments:\n",
      "category: 'shoes'\n",
      "subcategory: 'boots'\n",
      "color: 'black'\n",
      "\n",
      "\n",
      "\n",
      "Input: Help me find something very simple for my first day at work next week. Something casual and neutral.\n",
      "\n",
      "Context: Gender: male, Season: summer\n",
      "\n",
      "Product search arguments:\n",
      "category: 'tops'\n",
      "subcategory: 't-shirts'\n",
      "color: 'neutral'\n",
      "\n",
      "\n",
      "\n",
      "Input: Help me find something very simple for my first day at work next week. Something casual and neutral.\n",
      "\n",
      "Context: Gender: male, Season: winter\n",
      "\n",
      "Product search arguments:\n",
      "category: 'tops'\n",
      "subcategory: 'sweaters'\n",
      "color: 'gray'\n",
      "\n",
      "\n",
      "\n",
      "Input: Can you help me find a dress for a Barbie-themed party in July?\n",
      "\n",
      "Context: Gender: female, Age group: 20-30\n",
      "\n",
      "Product search arguments:\n",
      "category: 'tops'\n",
      "subcategory: 'blouses'\n",
      "color: 'pink'\n",
      "\n",
      "\n",
      "\n"
     ]
    }
   ],
   "source": [
    "for ex in example_inputs:\n",
    "    print_tool_call(ex['user_input'], ex['context'], ex['result'])"
   ]
  },
  {
   "cell_type": "markdown",
   "id": "5a9cc77c",
   "metadata": {},
   "source": [
    "## Conclusion\n",
    "\n",
    "In this cookbook, we've explored the new Structured Outputs capability through multiple examples.\n",
    "\n",
    "Structured Outputs is only available with `gpt-4o-mini` , `gpt-4o-2024-08-06`, and future models."
   ]
  }
 ],
 "metadata": {
  "kernelspec": {
   "display_name": "Python 3",
   "language": "python",
   "name": "python3"
  },
  "language_info": {
   "codemirror_mode": {
    "name": "ipython",
    "version": 3
   },
   "file_extension": ".py",
   "mimetype": "text/x-python",
   "name": "python",
   "nbconvert_exporter": "python",
   "pygments_lexer": "ipython3",
   "version": "3.12.7"
  }
 },
 "nbformat": 4,
 "nbformat_minor": 5
}
