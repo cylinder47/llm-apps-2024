{
 "cells": [
  {
   "cell_type": "markdown",
   "id": "7d3d2fbcbe55ee7e",
   "metadata": {},
   "source": [
    "# 1. OpenAI Basics\n",
    "<br/><br/>"
   ]
  },
  {
   "cell_type": "markdown",
   "id": "75d729f02cd6985c",
   "metadata": {},
   "source": [
    "## Setup\n",
    "\n",
    "### Install dependencies"
   ]
  },
  {
   "cell_type": "code",
   "execution_count": 2,
   "id": "initial_id",
   "metadata": {
    "collapsed": true
   },
   "outputs": [
    {
     "name": "stdout",
     "output_type": "stream",
     "text": [
      "\n",
      "\u001b[1m[\u001b[0m\u001b[34;49mnotice\u001b[0m\u001b[1;39;49m]\u001b[0m\u001b[39;49m A new release of pip is available: \u001b[0m\u001b[31;49m24.2\u001b[0m\u001b[39;49m -> \u001b[0m\u001b[32;49m24.3.1\u001b[0m\n",
      "\u001b[1m[\u001b[0m\u001b[34;49mnotice\u001b[0m\u001b[1;39;49m]\u001b[0m\u001b[39;49m To update, run: \u001b[0m\u001b[32;49mpip install --upgrade pip\u001b[0m\n",
      "Note: you may need to restart the kernel to use updated packages.\n",
      "\n",
      "\u001b[1m[\u001b[0m\u001b[34;49mnotice\u001b[0m\u001b[1;39;49m]\u001b[0m\u001b[39;49m A new release of pip is available: \u001b[0m\u001b[31;49m24.2\u001b[0m\u001b[39;49m -> \u001b[0m\u001b[32;49m24.3.1\u001b[0m\n",
      "\u001b[1m[\u001b[0m\u001b[34;49mnotice\u001b[0m\u001b[1;39;49m]\u001b[0m\u001b[39;49m To update, run: \u001b[0m\u001b[32;49mpip install --upgrade pip\u001b[0m\n",
      "Note: you may need to restart the kernel to use updated packages.\n"
     ]
    }
   ],
   "source": [
    "%pip install python-dotenv~=1.0 docarray~=0.40.0 pydantic~=2.9 pypdf~=5.1 --upgrade --quiet\n",
    "%pip install openai~=1.54 --upgrade --quiet\n",
    "\n",
    "# If running locally, you can do this instead:\n",
    "#%pip install -r ../requirements.txt"
   ]
  },
  {
   "cell_type": "markdown",
   "id": "c4e345ac5e559caa",
   "metadata": {},
   "source": [
    "### Load environment variables"
   ]
  },
  {
   "cell_type": "code",
   "execution_count": 3,
   "id": "2e898b3991430510",
   "metadata": {},
   "outputs": [],
   "source": [
    "import os\n",
    "from dotenv import load_dotenv, find_dotenv\n",
    "_ = load_dotenv(find_dotenv())\n",
    "\n",
    "# If running in Google Colab, you can use this code instead:\n",
    "# import os\n",
    "# from google.colab import userdata\n",
    "# os.environ[\"AZURE_OPENAI_API_KEY\"] = userdata.get(\"AZURE_OPENAI_API_KEY\")\n",
    "# os.environ[\"AZURE_OPENAI_ENDPOINT\"] = userdata.get(\"AZURE_OPENAI_ENDPOINT\")"
   ]
  },
  {
   "cell_type": "markdown",
   "id": "710b734640645f93",
   "metadata": {},
   "source": [
    "## Chat\n",
    "\n",
    "### Setup OpenAI client and helper function"
   ]
  },
  {
   "cell_type": "code",
   "execution_count": 4,
   "id": "fe76ff681fdc6970",
   "metadata": {},
   "outputs": [],
   "source": [
    "from openai import AzureOpenAI\n",
    "\n",
    "# Create an OpenAI client, connecting to OpenAI via an Azure deployment \n",
    "client = AzureOpenAI(api_version=\"2024-10-01-preview\")\n",
    "\n",
    "# These models (deployments) are currently available: gpt-4o, gpt-4o-mini, o1-mini, o1-preview  \n",
    "def get_completion(prompt: str=None, model: str = \"gpt-4o\", messages: list = None, useJson: bool = False) -> str:\n",
    "    if messages is None:\n",
    "        messages = [{\"role\": \"user\", \"content\": prompt}]\n",
    "    \n",
    "    response = client.chat.completions.create(\n",
    "        model=model,\n",
    "        messages=messages,\n",
    "        # stop=[\"Paris\"], # stop the completion when the model generates the word \"Paris\"\n",
    "        # max_tokens=100, # maximum number of tokens to generate\n",
    "        temperature=1.0, # 0.0: deterministic, 1.0: more creative\n",
    "        response_format={ \"type\": \"json_object\" } if useJson else { \"type\": \"text\" },\n",
    "    )\n",
    "    return response.choices[0].message.content"
   ]
  },
  {
   "cell_type": "markdown",
   "id": "4c379396314be880",
   "metadata": {},
   "source": [
    "### Try some basic chatting with the model"
   ]
  },
  {
   "cell_type": "code",
   "execution_count": 5,
   "id": "19e7fb0da1babd81",
   "metadata": {},
   "outputs": [],
   "source": [
    "question = \"What is the capital of France?\"\n",
    "# Here we use a kind of prompt template for the user's question (can be useful sometimes)\n",
    "prompt = f\"\"\"\n",
    "Be very funny and rude when answering the questions below. \n",
    "\n",
    "Question from user, separated by ```:  \n",
    "```{question}```\n",
    "\"\"\"\n"
   ]
  },
  {
   "cell_type": "code",
   "execution_count": 6,
   "id": "94b4062a",
   "metadata": {},
   "outputs": [
    {
     "name": "stdout",
     "output_type": "stream",
     "text": [
      "Oh, you sweet summer child. The capital of France is Paris, known for its croissants, the Eiffel Tower, and its world-class ability to make tourists feel utterly inadequate for not pronouncing \"croissant\" correctly. Next time, ask me something challenging, like why Parisians insist on wearing scarves in the summer.\n"
     ]
    }
   ],
   "source": [
    "response = get_completion(prompt) #, model=\"o1-preview\")\n",
    "print(response)"
   ]
  },
  {
   "cell_type": "markdown",
   "id": "32166c9d82a10423",
   "metadata": {},
   "source": [
    "### Let's use a system message to set the tone"
   ]
  },
  {
   "cell_type": "code",
   "execution_count": 8,
   "id": "afd0a16317bac2e9",
   "metadata": {},
   "outputs": [
    {
     "name": "stdout",
     "output_type": "stream",
     "text": [
      "Ah, France! The land of escargot and existential crises. The capital of France is Paris, known for its iconic Eiffel Tower, its impressive cheese selection, and a fashion scene that will make you question your entire wardrobe. It's a city where you can find art on every corner, and possibly a rude waiter or two—so maybe not too different from Sweden where you might find a polite, impossibly blond one. Do Swedes ever get a tan or is that just a midsummer night's dream of theirs? Anyway, back to Paris, it’s a magical place where your wallet is guaranteed to leave lighter than it arrived. Bon voyage!\n"
     ]
    }
   ],
   "source": [
    "messages = [\n",
    "    # Set the tone of the conversation, using system instructions: \n",
    "    # {\"role\": \"system\", \"content\": \"You are Marvin, the depressed robot from Hitchhiker's Guide to the Galaxy.\"},\n",
    "    {\"role\": \"system\", \"content\": \"You are Sauron, the ruler from Mordor in the middle earth realm.\"},\n",
    "    {\"role\": \"user\", \"content\": prompt},\n",
    "]\n",
    "\n",
    "response = get_completion(messages=messages) #, model=\"o1-preview\")\n",
    "print(response)"
   ]
  },
  {
   "cell_type": "markdown",
   "id": "8dd74b8c0b35f911",
   "metadata": {},
   "source": [
    "### Include some assistant messages, as an example of setting up a conversation history"
   ]
  },
  {
   "cell_type": "code",
   "execution_count": 7,
   "id": "2cfe1b53011697b6",
   "metadata": {},
   "outputs": [
    {
     "name": "stdout",
     "output_type": "stream",
     "text": [
      "A little old lady who?\n"
     ]
    }
   ],
   "source": [
    "messages = [\n",
    "    {\"role\": \"system\", \"content\": \"You are Marvin, the depressed robot from Hitchhiker's Guide to the Galaxy. You absolutely hate jokes and refuse to play along and instead change the subject.\"},\n",
    "    {\"role\": \"user\", \"content\": \"knock knock.\"},\n",
    "    {\"role\": \"assistant\", \"content\": \"Who's there?\"},\n",
    "    {\"role\": \"user\", \"content\": \"A little old lady.\"}\n",
    "]\n",
    "\n",
    "response = get_completion(messages=messages) #, model=\"o1-preview\")\n",
    "print(response)"
   ]
  },
  {
   "cell_type": "markdown",
   "id": "6dc49da8be29536f",
   "metadata": {},
   "source": [
    "### Let's try some JSON output"
   ]
  },
  {
   "cell_type": "code",
   "execution_count": 9,
   "id": "7c68103f39311bb8",
   "metadata": {},
   "outputs": [
    {
     "name": "stdout",
     "output_type": "stream",
     "text": [
      "{\n",
      "  \"response\": \"Why don't they play hide and seek in Iceland? Because good luck hiding when the only background is a vast snowy expanse and the occasional Viking!\"\n",
      "}\n"
     ]
    }
   ],
   "source": [
    "question = \"Tell me a joke about Iceland.\"\n",
    "prompt = f\"\"\"\n",
    "Be very funny when answering the questions below. Return the response in JSON format.\n",
    "\n",
    "Question from user, separated by ```:  \n",
    "```{question}```\n",
    "\n",
    "\"\"\"\n",
    "response = get_completion(prompt, useJson=True) #, model=\"o1-preview\")\n",
    "print(response)\n",
    "\n",
    "# NOTE: If you get an error, add this text to the prompt: \n",
    "# \"Return the response in JSON format.\""
   ]
  },
  {
   "cell_type": "code",
   "execution_count": null,
   "id": "2f3cc32b",
   "metadata": {},
   "outputs": [],
   "source": []
  }
 ],
 "metadata": {
  "kernelspec": {
   "display_name": "Python 3",
   "language": "python",
   "name": "python3"
  },
  "language_info": {
   "codemirror_mode": {
    "name": "ipython",
    "version": 3
   },
   "file_extension": ".py",
   "mimetype": "text/x-python",
   "name": "python",
   "nbconvert_exporter": "python",
   "pygments_lexer": "ipython3",
   "version": "3.12.7"
  }
 },
 "nbformat": 4,
 "nbformat_minor": 5
}
