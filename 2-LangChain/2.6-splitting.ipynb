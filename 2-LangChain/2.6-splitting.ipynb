{
 "cells": [
  {
   "metadata": {},
   "cell_type": "markdown",
   "source": [
    "# 2.2 Document Splitting\n",
    "\n",
    "May seem simple, but it can be a complex process that requires some thought and planning.\n",
    "\n",
    "\n",
    "![Splitting](https://python.langchain.com/assets/images/text_splitters-7961ccc13e05e2fd7f7f58048e082f47.png)"
   ],
   "id": "f3fc35a165d3c6fa"
  },
  {
   "metadata": {},
   "cell_type": "markdown",
   "source": [
    "## Setup\n",
    "\n",
    "### Install dependencies"
   ],
   "id": "a25890984a48323c"
  },
  {
   "metadata": {
    "collapsed": true
   },
   "cell_type": "code",
   "source": [
    "%pip install python-dotenv~=1.0 docarray~=0.40.0 pypdf~=5.1 --upgrade --quiet\n",
    "%pip install langchain~=0.3.7 langchain_openai~=0.2.6 langchain_community~=0.3.5 --upgrade --quiet\n",
    "\n",
    "# If running locally, you can do this instead:\n",
    "#%pip install -r ../requirements.txt"
   ],
   "id": "b362719e0f81cf6e",
   "outputs": [],
   "execution_count": null
  },
  {
   "metadata": {},
   "cell_type": "markdown",
   "source": "### Load environment variables",
   "id": "bcf68e301e626de9"
  },
  {
   "metadata": {},
   "cell_type": "code",
   "source": [
    "import os\n",
    "from dotenv import load_dotenv, find_dotenv\n",
    "_ = load_dotenv(find_dotenv())\n",
    "\n",
    "# If running in Google Colab, you can use this code instead:\n",
    "# from google.colab import userdata\n",
    "# os.environ[\"AZURE_OPENAI_API_KEY\"] = userdata.get(\"AZURE_OPENAI_API_KEY\")\n",
    "# os.environ[\"AZURE_OPENAI_ENDPOINT\"] = userdata.get(\"AZURE_OPENAI_ENDPOINT\")"
   ],
   "id": "3ff0f350df68b15a",
   "outputs": [],
   "execution_count": null
  },
  {
   "metadata": {},
   "cell_type": "markdown",
   "source": "### Setup path to data ",
   "id": "f9a34265170f5968"
  },
  {
   "metadata": {},
   "cell_type": "code",
   "outputs": [],
   "execution_count": null,
   "source": "data_path = \"../data\"",
   "id": "902a48e7b8e82b0"
  },
  {
   "metadata": {},
   "cell_type": "markdown",
   "source": [
    "## Basic splitting\n",
    "\n",
    "The most intuitive strategy is to split documents based on their length. This simple yet effective approach ensures that each chunk doesn't exceed a specified size limit. \n",
    "\n",
    "Key benefits of length-based splitting:\n",
    "\n",
    "- Straightforward implementation\n",
    "- Consistent chunk sizes\n",
    "- Easily adaptable to different model requirements"
   ],
   "id": "41546e17c0de2505"
  },
  {
   "metadata": {},
   "cell_type": "code",
   "source": "from langchain.text_splitter import RecursiveCharacterTextSplitter, CharacterTextSplitter",
   "id": "2266f24b84f4bbee",
   "outputs": [],
   "execution_count": null
  },
  {
   "metadata": {},
   "cell_type": "code",
   "source": [
    "chunk_size =27\n",
    "chunk_overlap = 4"
   ],
   "id": "daff4fc44158cdb7",
   "outputs": [],
   "execution_count": null
  },
  {
   "metadata": {},
   "cell_type": "code",
   "source": [
    "r_splitter = RecursiveCharacterTextSplitter(\n",
    "    chunk_size=chunk_size,\n",
    "    chunk_overlap=chunk_overlap\n",
    ")\n",
    "c_splitter = CharacterTextSplitter(\n",
    "    chunk_size=chunk_size,\n",
    "    chunk_overlap=chunk_overlap\n",
    ")"
   ],
   "id": "ac92ecd4128b850e",
   "outputs": [],
   "execution_count": null
  },
  {
   "metadata": {},
   "cell_type": "markdown",
   "source": "Let's see how the text is split using the `RecursiveCharacterTextSplitter`",
   "id": "49767f701d372c84"
  },
  {
   "metadata": {},
   "cell_type": "code",
   "source": [
    "text1 = 'abcdefghijklmn opqrstuvwxyz' # Equal to chunk_size\n",
    "\n",
    "r_splitter.split_text(text1)"
   ],
   "id": "f430e46f023f3a1b",
   "outputs": [],
   "execution_count": null
  },
  {
   "metadata": {},
   "cell_type": "code",
   "source": [
    "text2 = 'abcdefghijklmnopqrstuvwxyzabcdefg' # Longer than chunk_size\n",
    "#text2 = 'abcdefghijklmno pqrstuvwxyzabcdefg' # Longer than chunk_size\n",
    "\n",
    "r_splitter.split_text(text2) # Note overlap"
   ],
   "id": "aa99933886f10ec3",
   "outputs": [],
   "execution_count": null
  },
  {
   "metadata": {},
   "cell_type": "code",
   "source": [
    "text3 = \"a b c d e f g h i j k l m n o p q r s t u v w x y z\"\n",
    "\n",
    "r_splitter.split_text(text3)"
   ],
   "id": "7c04b2a5aa949650",
   "outputs": [],
   "execution_count": null
  },
  {
   "metadata": {},
   "cell_type": "markdown",
   "source": "Now, let's see how the text is split using the `CharacterTextSplitter` ",
   "id": "73a1f875f7e51c09"
  },
  {
   "metadata": {},
   "cell_type": "code",
   "source": [
    "# How many chunks will be created?\n",
    "c_splitter.split_text(text3)"
   ],
   "id": "9ff9e84688b392f2",
   "outputs": [],
   "execution_count": null
  },
  {
   "metadata": {},
   "cell_type": "code",
   "source": [
    "# Let's redefine the splitter to split on spaces\n",
    "c_splitter = CharacterTextSplitter(\n",
    "    chunk_size=chunk_size,\n",
    "    chunk_overlap=chunk_overlap,\n",
    "    separator = ' '\n",
    ")\n",
    "c_splitter.split_text(text3)"
   ],
   "id": "72d0235dcd57b1f6",
   "outputs": [],
   "execution_count": null
  },
  {
   "metadata": {},
   "cell_type": "markdown",
   "source": [
    "\n",
    "**Try your own examples!** \n",
    "<br/><br/><br/>\n",
    "\n",
    "----\n"
   ],
   "id": "c3febcdc0719d640"
  },
  {
   "metadata": {},
   "cell_type": "markdown",
   "source": [
    "## Recursive splitting details\n",
    "\n",
    "`RecursiveCharacterTextSplitter` is recommended for generic text. "
   ],
   "id": "39506fdddd818845"
  },
  {
   "metadata": {},
   "cell_type": "code",
   "source": [
    "some_text = \"\"\"When writing documents, writers will use document structure to group content. \\\n",
    "This can convey to the reader, which idea's are related. For example, closely related ideas \\\n",
    "are in sentances. Similar ideas are in paragraphs. Paragraphs form a document. \\n\\n  \\\n",
    "Paragraphs are often delimited with a carriage return or two carriage returns. \\\n",
    "Carriage returns are the \"backslash n\" you see embedded in this string. \\\n",
    "Sentences have a period at the end, but also, have a space.\\\n",
    "and words are separated by space.\"\"\"\n",
    "\n",
    "len(some_text)"
   ],
   "id": "ca20a00534286d7a",
   "outputs": [],
   "execution_count": null
  },
  {
   "metadata": {},
   "cell_type": "code",
   "source": [
    "c_splitter = CharacterTextSplitter(\n",
    "    chunk_size=450,\n",
    "    chunk_overlap=0,\n",
    "    separator = ' '\n",
    ")\n",
    "r_splitter = RecursiveCharacterTextSplitter(\n",
    "    chunk_size=450,\n",
    "    chunk_overlap=0,\n",
    "    separators=[\"\\n\\n\", \"\\n\", \" \", \"\"] # These are the default separators\n",
    ")"
   ],
   "id": "5e30c3957c271149",
   "outputs": [],
   "execution_count": null
  },
  {
   "metadata": {},
   "cell_type": "code",
   "source": [
    "docs = c_splitter.split_text(some_text)\n",
    "\n",
    "print(f\"Splits: {[len(doc) for doc in docs]}\")\n",
    "print(docs)   "
   ],
   "id": "f2eee6a05df48b9b",
   "outputs": [],
   "execution_count": null
  },
  {
   "metadata": {},
   "cell_type": "code",
   "source": [
    "docs = r_splitter.split_text(some_text)\n",
    "\n",
    "print(f\"Splits: {[len(doc) for doc in docs]}\")\n",
    "print(docs)"
   ],
   "id": "80bf717c7b8c332a",
   "outputs": [],
   "execution_count": null
  },
  {
   "metadata": {},
   "cell_type": "markdown",
   "source": "## PDF Splitting",
   "id": "e64131448590965d"
  },
  {
   "metadata": {},
   "cell_type": "code",
   "source": [
    "from langchain.document_loaders import PyPDFLoader\n",
    "#loader = PyPDFLoader(f\"{data_path}/MachineLearning-Lecture01.pdf\")\n",
    "loader = PyPDFLoader(f\"{data_path}/prop_202425__11.pdf\")\n",
    "loaded_pages = loader.load()\n",
    "\n",
    "content = ' '.join([page.page_content for page in loaded_pages[:20]])\n",
    "len(content)\n",
    "print(content[:500])"
   ],
   "id": "9e05b0335efd8871",
   "outputs": [],
   "execution_count": null
  },
  {
   "metadata": {},
   "cell_type": "code",
   "source": [
    "# Try with CharacterTextSplitter\n",
    "# text_splitter = CharacterTextSplitter(\n",
    "#     separator=\"\\n\",\n",
    "#     chunk_size=1000,\n",
    "#     chunk_overlap=150,\n",
    "#     length_function=len\n",
    "# )\n",
    "text_splitter = RecursiveCharacterTextSplitter(\n",
    "    chunk_size=4000, \n",
    "    chunk_overlap=200\n",
    ")"
   ],
   "id": "5c771d662773079c",
   "outputs": [],
   "execution_count": null
  },
  {
   "metadata": {},
   "cell_type": "code",
   "source": "docs = text_splitter.split_documents(loaded_pages)",
   "id": "1d22833f8882a2d5",
   "outputs": [],
   "execution_count": null
  },
  {
   "metadata": {},
   "cell_type": "code",
   "source": [
    "print(f\"Document splits: {len(docs)}\")\n",
    "print(f\"Loaded pages: {len(loaded_pages)}\")"
   ],
   "id": "40099b19a5cf19a7",
   "outputs": [],
   "execution_count": null
  },
  {
   "metadata": {},
   "cell_type": "code",
   "source": [
    "# Let's print some info about a single page\n",
    "page=3\n",
    "print(f\"Metadata: {docs[page].metadata}\")\n",
    "print(f\"Length: {len(docs[page].page_content)}\")\n",
    "print(f\"Page content (first 100): \\n{docs[page].page_content[:100]}...\")"
   ],
   "id": "59bbb12a278c2cd",
   "outputs": [],
   "execution_count": null
  },
  {
   "metadata": {},
   "cell_type": "markdown",
   "source": [
    "## Context aware splitting\n",
    "\n",
    "Chunking aims to keep text with common context together.\n",
    "\n",
    "A text splitting often uses sentences or other delimiters to keep related text together but many documents (such as Markdown) have structure (headers) that can be explicitly used in splitting.\n",
    "\n",
    "We can use `MarkdownHeaderTextSplitter` to preserve header metadata in our chunks, as show below."
   ],
   "id": "54dc07a5e1323bec"
  },
  {
   "metadata": {},
   "cell_type": "code",
   "source": "from langchain.text_splitter import MarkdownHeaderTextSplitter",
   "id": "df037cb74e15b6cc",
   "outputs": [],
   "execution_count": null
  },
  {
   "metadata": {},
   "cell_type": "code",
   "source": [
    "markdown_document = \"\"\"# Title\\n\\n \\\n",
    "## Chapter 1\\n\\n \\\n",
    "Hi this is Jim\\n\\n Hi this is Joe\\n\\n \\\n",
    "### Section \\n\\n \\\n",
    "Hi this is Lance \\n\\n \n",
    "## Chapter 2\\n\\n \\\n",
    "Hi this is Molly\"\"\""
   ],
   "id": "962d5402082fd4c",
   "outputs": [],
   "execution_count": null
  },
  {
   "metadata": {},
   "cell_type": "code",
   "source": [
    "headers_to_split_on = [\n",
    "    (\"#\", \"Header 1\"),\n",
    "    (\"##\", \"Header 2\"),\n",
    "    (\"###\", \"Header 3\"),\n",
    "]"
   ],
   "id": "ca9b3977d3ecbe43",
   "outputs": [],
   "execution_count": null
  },
  {
   "metadata": {},
   "cell_type": "code",
   "source": [
    "markdown_splitter = MarkdownHeaderTextSplitter(\n",
    "    headers_to_split_on=headers_to_split_on\n",
    ")\n",
    "md_header_splits = markdown_splitter.split_text(markdown_document)"
   ],
   "id": "55c2b588e8c8f8c5",
   "outputs": [],
   "execution_count": null
  },
  {
   "metadata": {},
   "cell_type": "code",
   "source": "md_header_splits[0]",
   "id": "83ae6196019afbfe",
   "outputs": [],
   "execution_count": null
  },
  {
   "metadata": {},
   "cell_type": "code",
   "source": "md_header_splits[1]",
   "id": "7df6100e92c0ced2",
   "outputs": [],
   "execution_count": null
  }
 ],
 "metadata": {
  "kernelspec": {
   "display_name": "Python 3",
   "language": "python",
   "name": "python3"
  },
  "language_info": {
   "codemirror_mode": {
    "name": "ipython",
    "version": 2
   },
   "file_extension": ".py",
   "mimetype": "text/x-python",
   "name": "python",
   "nbconvert_exporter": "python",
   "pygments_lexer": "ipython2",
   "version": "2.7.6"
  }
 },
 "nbformat": 4,
 "nbformat_minor": 5
}
