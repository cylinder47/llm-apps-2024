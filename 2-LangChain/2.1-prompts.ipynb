{
 "cells": [
  {
   "metadata": {},
   "cell_type": "markdown",
   "source": "# 2.1 - Prompts and Output Parsers ",
   "id": "71812daf78b1d9e1"
  },
  {
   "cell_type": "markdown",
   "id": "fabe13a58b126b36",
   "metadata": {},
   "source": [
    "## Setup\n",
    "\n",
    "### Install dependencies"
   ]
  },
  {
   "cell_type": "code",
   "id": "initial_id",
   "metadata": {
    "collapsed": true
   },
   "source": [
    "%pip install python-dotenv~=1.0 docarray~=0.40.0 pydantic~=2.9 pypdf~=5.1 --upgrade --quiet\n",
    "%pip install langchain~=0.3.7 langchain_openai~=0.2.6 langchain_community~=0.3.5 --upgrade --quiet\n",
    "\n",
    "# If running locally, you can do this instead:\n",
    "#%pip install -r ../requirements.txt"
   ],
   "outputs": [],
   "execution_count": null
  },
  {
   "cell_type": "markdown",
   "id": "a6b4cb397887d64",
   "metadata": {},
   "source": [
    "### Load environment variables"
   ]
  },
  {
   "cell_type": "code",
   "id": "221169915536536a",
   "metadata": {},
   "source": [
    "import os\n",
    "from dotenv import load_dotenv, find_dotenv\n",
    "_ = load_dotenv(find_dotenv())\n",
    "\n",
    "# If running in Google Colab, you can use this code instead:\n",
    "# from google.colab import userdata\n",
    "# os.environ[\"AZURE_OPENAI_API_KEY\"] = userdata.get(\"AZURE_OPENAI_API_KEY\")\n",
    "# os.environ[\"AZURE_OPENAI_ENDPOINT\"] = userdata.get(\"AZURE_OPENAI_ENDPOINT\")"
   ],
   "outputs": [],
   "execution_count": null
  },
  {
   "cell_type": "markdown",
   "id": "e7a89e07a87f543d",
   "metadata": {},
   "source": "### Setup Models"
  },
  {
   "cell_type": "code",
   "id": "bb6077d675b1cca",
   "metadata": {},
   "source": [
    "from langchain_openai import AzureChatOpenAI, AzureOpenAIEmbeddings\n",
    "api_version = \"2024-10-01-preview\"\n",
    "llm = AzureChatOpenAI(deployment_name=\"gpt-4o\", temperature=0.0, api_version=api_version)\n",
    "embedding_model = AzureOpenAIEmbeddings(model=\"text-embedding-3-large\", api_version=api_version)\n"
   ],
   "outputs": [],
   "execution_count": null
  },
  {
   "cell_type": "markdown",
   "id": "1374dfefa96c8e0e",
   "metadata": {},
   "source": [
    "## Prompts"
   ]
  },
  {
   "cell_type": "markdown",
   "id": "b973fdb6d1978381",
   "metadata": {},
   "source": "### Prompt template - for any type of LM (instruct or base) and simple use cases"
  },
  {
   "metadata": {},
   "cell_type": "code",
   "source": [
    "from langchain.prompts import PromptTemplate\n",
    "\n",
    "template_string = (\"Translate the text that is delimited by triple backticks into a style that \"\n",
    "                   \"is {style}. text: ```{text}```\")\n",
    "\n",
    "prompt = PromptTemplate.from_template(template_string)\n",
    "prompt.format(style=\"geeky\", text=\"Hello, world!\")"
   ],
   "id": "58781bb1c458a39c",
   "outputs": [],
   "execution_count": null
  },
  {
   "metadata": {},
   "cell_type": "markdown",
   "source": [
    "### Chat prompt template - for chat-based LLMs\n",
    "Basically a chat prompt template is a list of messages, where each message in itself can be a template."
   ],
   "id": "3e1153c1ca06ac96"
  },
  {
   "cell_type": "code",
   "id": "87b67cd139c66b26",
   "metadata": {},
   "source": [
    "from langchain.prompts import ChatPromptTemplate, SystemMessagePromptTemplate, HumanMessagePromptTemplate\n",
    "\n",
    "system_template = \"Translate user input into a style that is {style}.\"\n",
    "\n",
    "prompt_template_typed = ChatPromptTemplate([\n",
    "    SystemMessagePromptTemplate.from_template(system_template),\n",
    "    HumanMessagePromptTemplate.from_template(\"{input}\"),\n",
    "])\n",
    "\n",
    "# Use can also use this shorthand to create the same prompt template    \n",
    "prompt_template = ChatPromptTemplate([\n",
    "    (\"system\", system_template),\n",
    "    (\"human\", \"{input}\"),\n",
    "])\n"
   ],
   "outputs": [],
   "execution_count": null
  },
  {
   "cell_type": "code",
   "id": "1a3ac2d0f7576987",
   "metadata": {},
   "source": [
    "prompt_template.messages[0].prompt"
   ],
   "outputs": [],
   "execution_count": null
  },
  {
   "cell_type": "code",
   "id": "a92db1765d6e1812",
   "metadata": {},
   "source": [
    "prompt_template.messages[0].prompt.input_variables"
   ],
   "outputs": [],
   "execution_count": null
  },
  {
   "cell_type": "code",
   "id": "83125e5e1063efa5",
   "metadata": {},
   "source": [
    "customer_style = \"American English in a calm and respectful tone\"\n",
    "\n",
    "customer_email = \"\"\"\n",
    "Arrr, I be fuming that me blender lid \\\n",
    "flew off and splattered me kitchen walls \\\n",
    "with smoothie! And to make matters worse, \\\n",
    "the warranty don't cover the cost of \\\n",
    "cleaning up me kitchen. I need yer help \\\n",
    "right now, matey!\n",
    "\"\"\"\n",
    "\n",
    "customer_messages = prompt_template.format_messages(\n",
    "    style=customer_style,\n",
    "    input=customer_email)\n",
    "\n",
    "print(type(customer_messages))\n",
    "print(type(customer_messages[0]))\n",
    "print(type(customer_messages[1]))"
   ],
   "outputs": [],
   "execution_count": null
  },
  {
   "cell_type": "code",
   "id": "d3872fdb49b8c292",
   "metadata": {},
   "source": [
    "print(customer_messages[0])"
   ],
   "outputs": [],
   "execution_count": null
  },
  {
   "cell_type": "code",
   "id": "acb93ea6d27b4d86",
   "metadata": {},
   "source": [
    "# Call the LLM to translate to the style of the customer message\n",
    "customer_response = llm.invoke(customer_messages)\n",
    "print(customer_response.content)"
   ],
   "outputs": [],
   "execution_count": null
  },
  {
   "metadata": {},
   "cell_type": "markdown",
   "source": "#### Try another example",
   "id": "d53fe42c8338e409"
  },
  {
   "metadata": {},
   "cell_type": "code",
   "source": [
    "customer_style = \"The same style as the user\"\n",
    "\n",
    "customer_messages = prompt_template.format_messages(\n",
    "    style=customer_style,\n",
    "    input=customer_email)\n",
    "\n",
    "customer_response = llm.invoke(customer_messages)\n",
    "print(customer_response.content)"
   ],
   "id": "20d54b3d2434415b",
   "outputs": [],
   "execution_count": null
  },
  {
   "metadata": {},
   "cell_type": "markdown",
   "source": [
    "### MessagesPlaceholder\n",
    "\n",
    "What if we wanted the user to pass in a list of messages that we would slot into a particular spot? This is how you use MessagesPlaceholder. A typical use case for this in when you need to include **_conversation history_** in the prompt."
   ],
   "id": "b458813ee241bde3"
  },
  {
   "metadata": {},
   "cell_type": "code",
   "source": [
    "from langchain_core.prompts import MessagesPlaceholder\n",
    "from langchain_core.messages import HumanMessage, AIMessage\n",
    "\n",
    "prompt_template = ChatPromptTemplate([\n",
    "    (\"system\", \"You are a helpful assistant\"),\n",
    "    MessagesPlaceholder(\"history\")\n",
    "])\n",
    "\n",
    "prompt_template.invoke({\"history\": [HumanMessage(content=\"hi!\"), AIMessage(content=\"Sup fam?\")]})"
   ],
   "id": "d074caef264cb373",
   "outputs": [],
   "execution_count": null
  },
  {
   "metadata": {},
   "cell_type": "code",
   "source": [
    "# Alternative, shorthand syntax\n",
    "prompt_template = ChatPromptTemplate([\n",
    "    (\"system\", \"You are a helpful assistant\"),\n",
    "    (\"placeholder\", \"{history}\") # <-- This is the changed part\n",
    "])"
   ],
   "id": "a8ced8790122b033",
   "outputs": [],
   "execution_count": null
  },
  {
   "metadata": {},
   "cell_type": "markdown",
   "source": "<br/>",
   "id": "aa8d2f73e519a85b"
  },
  {
   "cell_type": "markdown",
   "id": "2d71df032274e8c0",
   "metadata": {},
   "source": [
    "----\n",
    "<br/>\n",
    "\n",
    "\n",
    "## Output Parsers\n",
    "\n",
    "Let's start with defining how we would like the LLM output to look like:"
   ]
  },
  {
   "cell_type": "markdown",
   "id": "236fa5ba4402834f",
   "metadata": {},
   "source": [
    "## The most common parser - String output parsing"
   ]
  },
  {
   "cell_type": "code",
   "id": "f77f921dc68d9e94",
   "metadata": {},
   "source": [
    "from langchain_core.output_parsers import StrOutputParser\n",
    "\n",
    "str_parser = StrOutputParser()\n",
    "llm.invoke(\"\")\n",
    "\n",
    "parsed_response = str_parser.invoke(customer_response)\n",
    "print(parsed_response)"
   ],
   "outputs": [],
   "execution_count": null
  },
  {
   "cell_type": "markdown",
   "id": "8bfd095488b3ca5c",
   "metadata": {},
   "source": [
    "### Structured output parsing"
   ]
  },
  {
   "cell_type": "code",
   "id": "df8870b805fae9f6",
   "metadata": {},
   "source": [
    "{\n",
    "    \"gift\": False,\n",
    "    \"delivery_days\": 5,\n",
    "    \"price_value\": \"pretty affordable!\"\n",
    "}"
   ],
   "outputs": [],
   "execution_count": null
  },
  {
   "cell_type": "code",
   "id": "dbe9c9d9379bd12c",
   "metadata": {},
   "source": [
    "customer_review = \"\"\"\\\n",
    "This leaf blower is pretty amazing.  It has four settings:\\\n",
    "candle blower, gentle breeze, windy city, and tornado. \\\n",
    "It arrived in two days, just in time for my wife's \\\n",
    "anniversary present. \\\n",
    "I think my wife liked it so much she was speechless. \\\n",
    "So far I've been the only one using it, and I've been \\\n",
    "using it every other morning to clear the leaves on our lawn. \\\n",
    "It's slightly more expensive than the other leaf blowers \\\n",
    "out there, but I think it's worth it for the extra features.\n",
    "\"\"\"\n",
    "\n",
    "review_template = \"\"\"\\\n",
    "For the following text, extract the following information:\n",
    "\n",
    "gift: Was the item purchased as a gift for someone else? \\\n",
    "Answer True if yes, False if not or unknown.\n",
    "\n",
    "delivery_days: How many days did it take for the product \\\n",
    "to arrive? If this information is not found, output -1.\n",
    "\n",
    "price_value: Extract any sentences about the value or price,\\\n",
    "and output them as a comma separated Python list.\n",
    "\n",
    "Format the output as JSON with the following keys:\n",
    "gift\n",
    "delivery_days\n",
    "price_value\n",
    "\n",
    "text: {text}\n",
    "\"\"\""
   ],
   "outputs": [],
   "execution_count": null
  },
  {
   "cell_type": "code",
   "id": "1ef1d624b1e52f69",
   "metadata": {},
   "source": [
    "from langchain.prompts import ChatPromptTemplate\n",
    "\n",
    "prompt_template = ChatPromptTemplate.from_template(review_template)\n",
    "print(prompt_template)"
   ],
   "outputs": [],
   "execution_count": null
  },
  {
   "cell_type": "code",
   "id": "ef70678c44331c54",
   "metadata": {},
   "source": [
    "messages = prompt_template.format_messages(text=customer_review)\n",
    "response = llm.invoke(messages)\n",
    "print(response.content)"
   ],
   "outputs": [],
   "execution_count": null
  },
  {
   "cell_type": "code",
   "id": "21a098597c381b3a",
   "metadata": {},
   "source": [
    "type(response.content)"
   ],
   "outputs": [],
   "execution_count": null
  },
  {
   "cell_type": "code",
   "id": "b662bb2b2cf58f6f",
   "metadata": {},
   "source": [
    "# You will get an error by running this line of code \n",
    "# because content is not a dictionary, but a string\n",
    "response.content.get('gift') # This will raise an error - comment out to proceed"
   ],
   "outputs": [],
   "execution_count": null
  },
  {
   "cell_type": "markdown",
   "id": "9b10d3c0df23f733",
   "metadata": {},
   "source": [
    "### Parse the LLM output string into a Python dictionary"
   ]
  },
  {
   "cell_type": "code",
   "id": "96d88050a3921103",
   "metadata": {},
   "source": [
    "from langchain.output_parsers import ResponseSchema\n",
    "from langchain.output_parsers import StructuredOutputParser\n",
    "\n",
    "gift_schema = ResponseSchema(name=\"gift\",\n",
    "                             description=\"Was the item purchased\\\n",
    "                             as a gift for someone else? \\\n",
    "                             Answer True if yes,\\\n",
    "                             False if not or unknown.\")\n",
    "delivery_days_schema = ResponseSchema(name=\"delivery_days\",\n",
    "                                      description=\"How many days\\\n",
    "                                      did it take for the product\\\n",
    "                                      to arrive? If this \\\n",
    "                                      information is not found,\\\n",
    "                                      output -1.\")\n",
    "price_value_schema = ResponseSchema(name=\"price_value\",\n",
    "                                    description=\"Extract any\\\n",
    "                                    sentences about the value or \\\n",
    "                                    price, and output them as a \\\n",
    "                                    comma separated Python list.\")\n",
    "\n",
    "response_schemas = [gift_schema,\n",
    "                    delivery_days_schema,\n",
    "                    price_value_schema]"
   ],
   "outputs": [],
   "execution_count": null
  },
  {
   "cell_type": "code",
   "id": "2f2726fa9ddc6b71",
   "metadata": {},
   "source": [
    "output_parser = StructuredOutputParser.from_response_schemas(response_schemas)"
   ],
   "outputs": [],
   "execution_count": null
  },
  {
   "cell_type": "code",
   "id": "fb0af53416169e3a",
   "metadata": {},
   "source": [
    "format_instructions = output_parser.get_format_instructions()\n",
    "print(format_instructions)"
   ],
   "outputs": [],
   "execution_count": null
  },
  {
   "cell_type": "code",
   "id": "23fa052ed98dc007",
   "metadata": {},
   "source": [
    "review_template_2 = \"\"\"\\\n",
    "For the following text, extract the following information:\n",
    "\n",
    "gift: Was the item purchased as a gift for someone else? \\\n",
    "Answer True if yes, False if not or unknown.\n",
    "\n",
    "delivery_days: How many days did it take for the product\\\n",
    "to arrive? If this information is not found, output -1.\n",
    "\n",
    "price_value: Extract any sentences about the value or price,\\\n",
    "and output them as a comma separated Python list.\n",
    "\n",
    "text: {text}\n",
    "\n",
    "{format_instructions}\n",
    "\"\"\"\n",
    "\n",
    "prompt = ChatPromptTemplate.from_template(template=review_template_2)\n",
    "\n",
    "messages = prompt.format_messages(text=customer_review,\n",
    "                                  format_instructions=format_instructions)"
   ],
   "outputs": [],
   "execution_count": null
  },
  {
   "cell_type": "code",
   "id": "162240d282ec690b",
   "metadata": {},
   "source": [
    "response = llm.invoke(messages)\n",
    "print(response.content)"
   ],
   "outputs": [],
   "execution_count": null
  },
  {
   "cell_type": "code",
   "id": "54538908525b6344",
   "metadata": {},
   "source": [
    "print(messages[0].content)"
   ],
   "outputs": [],
   "execution_count": null
  },
  {
   "cell_type": "code",
   "id": "388d90d2f4b084fc",
   "metadata": {},
   "source": [
    "output_dict = output_parser.parse(response.content)"
   ],
   "outputs": [],
   "execution_count": null
  },
  {
   "cell_type": "code",
   "id": "4e43833eaa0105f0",
   "metadata": {},
   "source": [
    "output_dict"
   ],
   "outputs": [],
   "execution_count": null
  },
  {
   "cell_type": "code",
   "id": "ed05fb3dfd17f27b",
   "metadata": {},
   "source": [
    "type(output_dict)"
   ],
   "outputs": [],
   "execution_count": null
  },
  {
   "cell_type": "code",
   "id": "b6efc2b532e62bda",
   "metadata": {},
   "source": [
    "output_dict.get('delivery_days')"
   ],
   "outputs": [],
   "execution_count": null
  }
 ],
 "metadata": {
  "kernelspec": {
   "display_name": "Python 3",
   "language": "python",
   "name": "python3"
  },
  "language_info": {
   "codemirror_mode": {
    "name": "ipython",
    "version": 2
   },
   "file_extension": ".py",
   "mimetype": "text/x-python",
   "name": "python",
   "nbconvert_exporter": "python",
   "pygments_lexer": "ipython2",
   "version": "2.7.6"
  }
 },
 "nbformat": 4,
 "nbformat_minor": 5
}
