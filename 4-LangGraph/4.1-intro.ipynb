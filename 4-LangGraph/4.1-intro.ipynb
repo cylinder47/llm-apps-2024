{
 "cells": [
  {
   "metadata": {},
   "cell_type": "markdown",
   "source": [
    "# 4.1 LangGraph basics\n",
    "\n",
    "Derived from [![LangChain Academy](https://cdn.prod.website-files.com/65b8cd72835ceeacd4449a53/66e9eba12c7b7688aa3dbb5e_LCA-badge-green.svg)](https://academy.langchain.com/courses/take/intro-to-langgraph/) \n",
    "\n",
    "![Screenshot 2024-08-20 at 3.11.22 PM.png](https://cdn.prod.website-files.com/65b8cd72835ceeacd4449a53/66dba5f465f6e9a2482ad935_simple-graph1.png)"
   ],
   "id": "e418e6872e01f651"
  },
  {
   "metadata": {
    "ExecuteTime": {
     "end_time": "2024-11-14T06:56:58.909678Z",
     "start_time": "2024-11-14T06:56:57.722751Z"
    }
   },
   "cell_type": "code",
   "source": [
    "%%capture --no-stderr\n",
    "%pip install --quiet --upgrade langgraph~=0.2.46"
   ],
   "id": "41be4abe7beb279a",
   "outputs": [],
   "execution_count": 15
  },
  {
   "metadata": {},
   "cell_type": "markdown",
   "source": [
    "## Let's get started with LangGraph!\n",
    "\n",
    "Some key concepts in LangGraph are:\n",
    "* [Nodes](https://langchain-ai.github.io/langgraph/concepts/low_level/#nodes)\n",
    "* [Edges](https://langchain-ai.github.io/langgraph/concepts/low_level/#edges)\n",
    "* [State](https://langchain-ai.github.io/langgraph/concepts/low_level/#state)\n",
    "* [START Node](https://langchain-ai.github.io/langgraph/concepts/low_level/#start-node)\n",
    "* [END Node](https://langchain-ai.github.io/langgraph/concepts/low_level/#end-node)\n",
    "* [Conditional Edges](https://langchain-ai.github.io/langgraph/concepts/low_level/#conditional-edges)\n",
    "* [Graph Compilation](https://langchain-ai.github.io/langgraph/concepts/low_level/#compiling-your-graph)\n"
   ],
   "id": "1f6f0ba5f34e9e47"
  },
  {
   "metadata": {},
   "cell_type": "markdown",
   "source": [
    "## Nodes\n",
    "\n",
    "[Nodes](https://langchain-ai.github.io/langgraph/concepts/low_level/#nodes) are just python functions.\n",
    "\n",
    "The first positional argument is the state, as defined above.\n",
    "\n",
    "Because the state is a `TypedDict` with schema as defined above, each node can access the key, `graph_state`, with `state['graph_state']`.\n",
    "\n",
    "Each node returns a new value of the state key `graph_state`.\n",
    "  \n",
    "By default, the new value returned by each node [will override](https://langchain-ai.github.io/langgraph/concepts/low_level/#reducers) the prior state value."
   ],
   "id": "20572e3dc5f5020f"
  },
  {
   "metadata": {
    "ExecuteTime": {
     "end_time": "2024-11-14T06:57:06.255526Z",
     "start_time": "2024-11-14T06:57:06.245653Z"
    }
   },
   "cell_type": "code",
   "source": [
    "def node_1(state):\n",
    "    print(\"---Node 1---\")\n",
    "    return {\"graph_state\": state['graph_state'] +\" I am\"}\n",
    "\n",
    "def node_2(state):\n",
    "    print(\"---Node 2---\")\n",
    "    return {\"graph_state\": state['graph_state'] +\" happy!\"}\n",
    "\n",
    "def node_3(state):\n",
    "    print(\"---Node 3---\")\n",
    "    return {\"graph_state\": state['graph_state'] +\" sad!\"}"
   ],
   "id": "4cfe26c2281a1322",
   "outputs": [],
   "execution_count": 16
  },
  {
   "metadata": {},
   "cell_type": "markdown",
   "source": [
    "### State\n",
    "\n",
    "First, define the [State](https://langchain-ai.github.io/langgraph/concepts/low_level/#state) of the graph. \n",
    "\n",
    "The State schema serves as the input schema for all Nodes and Edges in the graph. All nodes are expected to communicate with that schema.\n",
    "\n",
    "LangGraph offers flexibility in how you define your state schema, accommodating various Python [types](https://docs.python.org/3/library/stdtypes.html#type-objects) and validation approaches!\n",
    "\n",
    "**The main documented way** to specify the schema of a graph is by using `TypedDict`. However, Pydantic BaseModel and dataclasses are also supported.\n",
    "\n",
    "### TypedDict\n",
    "\n",
    "We can use the `TypedDict` class from python's `typing` module.\n",
    "\n",
    "It allows you to specify keys and their corresponding value types.\n",
    " \n",
    "But, note that these are type hints. They can used by static type checkers (like [mypy](https://github.com/python/mypy)) or IDEs to catch potential type-related errors before the code is run. But they are not enforced at runtime!\n",
    "\n",
    "```python\n",
    "from typing_extensions import TypedDict\n",
    "\n",
    "class TypedDictState(TypedDict):\n",
    "    foo: str\n",
    "    bar: str\n",
    "``` "
   ],
   "id": "9584a87f8590d357"
  },
  {
   "metadata": {},
   "cell_type": "markdown",
   "source": [
    "#### Alternative 1 - Pydantic\n",
    "\n",
    "[Pydantic](https://docs.pydantic.dev/latest/api/base_model/) is a data validation and settings management library using Python type annotations. \n",
    "\n",
    "It's particularly well-suited [for defining state schemas in LangGraph](https://langchain-ai.github.io/langgraph/how-tos/state-model/) due to its validation capabilities.\n",
    "\n",
    "Pydantic can perform validation to check whether data conforms to the specified types and constraints at runtime.\n",
    "\n",
    "```python\n",
    "from pydantic import BaseModel, field_validator, ValidationError\n",
    "\n",
    "class PydanticState(BaseModel):\n",
    "    foo: str\n",
    "    bar: str\n",
    "```"
   ],
   "id": "af9e21a75f76afb"
  },
  {
   "metadata": {},
   "cell_type": "markdown",
   "source": [
    "#### Alternative 2 - Dataclass\n",
    "\n",
    "Python's [dataclasses](https://docs.python.org/3/library/dataclasses.html) provide [another way to define structured data](https://www.datacamp.com/tutorial/python-data-classes).\n",
    "\n",
    "Dataclasses offer a concise syntax for creating classes that are primarily used to store data. \n",
    "\n",
    "```python\n",
    "from typing_extensions import TypedDict\n",
    "\n",
    "class TypedDictState(TypedDict):\n",
    "    foo: str\n",
    "    bar: str\n",
    "```\n",
    "\n",
    "To access the keys of a `dataclass`, use field names in subscripting."
   ],
   "id": "e3c41a836adea7bf"
  },
  {
   "metadata": {},
   "cell_type": "markdown",
   "source": [
    "### State with TypedDict\n",
    "Let's go ahead and use the `TypedDict` class from python's `typing` module as our schema, which provides type hints for the keys."
   ],
   "id": "8ce8ff2806a9bb3d"
  },
  {
   "metadata": {
    "ExecuteTime": {
     "end_time": "2024-11-14T06:57:10.341430Z",
     "start_time": "2024-11-14T06:57:10.337964Z"
    }
   },
   "cell_type": "code",
   "source": [
    "from typing_extensions import TypedDict\n",
    "\n",
    "class State(TypedDict):\n",
    "    graph_state: str # You can also use optional fields like this: `NotRequired[str]`"
   ],
   "id": "4d18a0255b7830e2",
   "outputs": [],
   "execution_count": 17
  },
  {
   "metadata": {},
   "cell_type": "markdown",
   "source": [
    "## Edges\n",
    "\n",
    "[Edges](https://langchain-ai.github.io/langgraph/concepts/low_level/#edges) connect the nodes.\n",
    "\n",
    "Normal Edges are used if you want to *always* go from, for example, `node_1` to `node_2`.\n",
    "\n",
    "[Conditional Edges](https://langchain-ai.github.io/langgraph/reference/graphs/?h=conditional+edge#langgraph.graph.StateGraph.add_conditional_edges) are used want to *optionally* route between nodes.\n",
    " \n",
    "Conditional edges are implemented as functions that return the next node to visit based upon some logic."
   ],
   "id": "2d2d1bf1fc2afbbe"
  },
  {
   "metadata": {
    "ExecuteTime": {
     "end_time": "2024-11-14T06:57:12.239095Z",
     "start_time": "2024-11-14T06:57:12.232890Z"
    }
   },
   "cell_type": "code",
   "source": [
    "import random\n",
    "from typing import Literal\n",
    "\n",
    "def decide_mood(state) -> Literal[\"node_2\", \"node_3\"]:\n",
    "    \n",
    "    # Often, we will use state to decide on the next node to visit\n",
    "    user_input = state['graph_state'] \n",
    "    \n",
    "    # Here, let's just do a 50 / 50 split between nodes 2, 3\n",
    "    if random.random() < 0.5:\n",
    "\n",
    "        # 50% of the time, we return Node 2\n",
    "        return \"node_2\"\n",
    "    \n",
    "    # 50% of the time, we return Node 3\n",
    "    return \"node_3\""
   ],
   "id": "6e49519f98b5645d",
   "outputs": [],
   "execution_count": 18
  },
  {
   "metadata": {},
   "cell_type": "markdown",
   "source": [
    "## Graph Construction\n",
    "\n",
    "Now, we build the graph from our [components](\n",
    "https://langchain-ai.github.io/langgraph/concepts/low_level/) defined above.\n",
    "\n",
    "The [StateGraph class](https://langchain-ai.github.io/langgraph/concepts/low_level/#stategraph) is the graph class that we can use.\n",
    " \n",
    "First, we initialize a StateGraph with the `State` class we defined above.\n",
    " \n",
    "Then, we add our nodes and edges.\n",
    "\n",
    "We use the [`START` Node, a special node](https://langchain-ai.github.io/langgraph/concepts/low_level/#start-node) that sends user input to the graph, to indicate where to start our graph.\n",
    " \n",
    "The [`END` Node](https://langchain-ai.github.io/langgraph/concepts/low_level/#end-node) is a special node that represents a terminal node. \n",
    "\n",
    "Finally, we [compile our graph](https://langchain-ai.github.io/langgraph/concepts/low_level/#compiling-your-graph) to perform a few basic checks on the graph structure. \n",
    "\n",
    "We can visualize the graph as a [Mermaid diagram](https://github.com/mermaid-js/mermaid)."
   ],
   "id": "9360a968a1a3ffa2"
  },
  {
   "metadata": {
    "ExecuteTime": {
     "end_time": "2024-11-14T06:57:19.143367Z",
     "start_time": "2024-11-14T06:57:18.299405Z"
    }
   },
   "cell_type": "code",
   "source": [
    "from IPython.display import Image, display\n",
    "from langgraph.graph import StateGraph, START, END\n",
    "\n",
    "# Build graph\n",
    "builder = StateGraph(State)\n",
    "builder.add_node(\"node_1\", node_1)\n",
    "builder.add_node(\"node_2\", node_2)\n",
    "builder.add_node(\"node_3\", node_3)\n",
    "\n",
    "# Logic\n",
    "builder.add_edge(START, \"node_1\")\n",
    "builder.add_conditional_edges(\"node_1\", decide_mood)\n",
    "builder.add_edge(\"node_2\", END)\n",
    "builder.add_edge(\"node_3\", END)\n",
    "\n",
    "# Add\n",
    "graph = builder.compile()\n",
    "\n",
    "# View\n",
    "display(Image(graph.get_graph().draw_mermaid_png()))"
   ],
   "id": "20f09af99c16fb14",
   "outputs": [
    {
     "data": {
      "image/png": "[encoded data removed]",
      "text/plain": [
       "<IPython.core.display.Image object>"
      ]
     },
     "metadata": {},
     "output_type": "display_data"
    }
   ],
   "execution_count": 19
  },
  {
   "metadata": {},
   "cell_type": "markdown",
   "source": [
    "## Graph Invocation\n",
    "\n",
    "The compiled graph implements the [runnable](https://python.langchain.com/v0.1/docs/expression_language/interface/) protocol.\n",
    "\n",
    "This provides a standard way to execute LangChain components. \n",
    " \n",
    "`invoke` is one of the standard methods in this interface.\n",
    "\n",
    "The input is a dictionary `{\"graph_state\": \"Hi, this is lance.\"}`, which sets the initial value for our graph state dict.\n",
    "\n",
    "When `invoke` is called, the graph starts execution from the `START` node.\n",
    "\n",
    "It progresses through the defined nodes (`node_1`, `node_2`, `node_3`) in order.\n",
    "\n",
    "The conditional edge will traverse from node `1` to node `2` or `3` using a 50/50 decision rule. \n",
    "\n",
    "Each node function receives the current state and returns a new value, which overrides the graph state.\n",
    "\n",
    "The execution continues until it reaches the `END` node."
   ],
   "id": "d1adff8bc5fce85e"
  },
  {
   "metadata": {
    "ExecuteTime": {
     "end_time": "2024-11-14T06:57:25.561697Z",
     "start_time": "2024-11-14T06:57:25.269035Z"
    }
   },
   "cell_type": "code",
   "source": "graph.invoke({\"graph_state\" : \"Hi, this is ToBe.\"})",
   "id": "fdbf8612e82d6c58",
   "outputs": [
    {
     "name": "stdout",
     "output_type": "stream",
     "text": [
      "---Node 1---\n",
      "---Node 2---\n"
     ]
    },
    {
     "ename": "InvalidUpdateError",
     "evalue": "Expected node graph_state to update at least one of ['graph_state'], got {'graph_state_': 'Hi, this is ToBe. I am happy!'}",
     "output_type": "error",
     "traceback": [
      "\u001B[0;31m---------------------------------------------------------------------------\u001B[0m",
      "\u001B[0;31mInvalidUpdateError\u001B[0m                        Traceback (most recent call last)",
      "Cell \u001B[0;32mIn[21], line 1\u001B[0m\n\u001B[0;32m----> 1\u001B[0m \u001B[43mgraph\u001B[49m\u001B[38;5;241;43m.\u001B[39;49m\u001B[43minvoke\u001B[49m\u001B[43m(\u001B[49m\u001B[43m{\u001B[49m\u001B[38;5;124;43m\"\u001B[39;49m\u001B[38;5;124;43mgraph_state\u001B[39;49m\u001B[38;5;124;43m\"\u001B[39;49m\u001B[43m \u001B[49m\u001B[43m:\u001B[49m\u001B[43m \u001B[49m\u001B[38;5;124;43m\"\u001B[39;49m\u001B[38;5;124;43mHi, this is ToBe.\u001B[39;49m\u001B[38;5;124;43m\"\u001B[39;49m\u001B[43m}\u001B[49m\u001B[43m)\u001B[49m\n",
      "File \u001B[0;32m~/Repos/Labs/LLM-apps-2024/.venv/lib/python3.12/site-packages/langgraph/pregel/__init__.py:1749\u001B[0m, in \u001B[0;36minvoke\u001B[0;34m(self, input, config, stream_mode, output_keys, interrupt_before, interrupt_after, debug, **kwargs)\u001B[0m\n\u001B[1;32m   1739\u001B[0m \u001B[38;5;28;01mif\u001B[39;00m \u001B[38;5;124m\"\u001B[39m\u001B[38;5;124mcustom\u001B[39m\u001B[38;5;124m\"\u001B[39m \u001B[38;5;129;01min\u001B[39;00m stream_modes:\n\u001B[1;32m   1740\u001B[0m     config[CONF][CONFIG_KEY_STREAM_WRITER] \u001B[38;5;241m=\u001B[39m \u001B[38;5;28;01mlambda\u001B[39;00m c: stream\u001B[38;5;241m.\u001B[39mput_nowait(\n\u001B[1;32m   1741\u001B[0m         ((), \u001B[38;5;124m\"\u001B[39m\u001B[38;5;124mcustom\u001B[39m\u001B[38;5;124m\"\u001B[39m, c)\n\u001B[1;32m   1742\u001B[0m     )\n\u001B[1;32m   1743\u001B[0m \u001B[38;5;28;01masync\u001B[39;00m \u001B[38;5;28;01mwith\u001B[39;00m AsyncPregelLoop(\n\u001B[1;32m   1744\u001B[0m     \u001B[38;5;28minput\u001B[39m,\n\u001B[1;32m   1745\u001B[0m     stream\u001B[38;5;241m=\u001B[39mStreamProtocol(stream\u001B[38;5;241m.\u001B[39mput_nowait, stream_modes),\n\u001B[1;32m   1746\u001B[0m     config\u001B[38;5;241m=\u001B[39mconfig,\n\u001B[1;32m   1747\u001B[0m     store\u001B[38;5;241m=\u001B[39mstore,\n\u001B[1;32m   1748\u001B[0m     checkpointer\u001B[38;5;241m=\u001B[39mcheckpointer,\n\u001B[0;32m-> 1749\u001B[0m     nodes\u001B[38;5;241m=\u001B[39m\u001B[38;5;28mself\u001B[39m\u001B[38;5;241m.\u001B[39mnodes,\n\u001B[1;32m   1750\u001B[0m     specs\u001B[38;5;241m=\u001B[39m\u001B[38;5;28mself\u001B[39m\u001B[38;5;241m.\u001B[39mchannels,\n\u001B[1;32m   1751\u001B[0m     output_keys\u001B[38;5;241m=\u001B[39moutput_keys,\n\u001B[1;32m   1752\u001B[0m     stream_keys\u001B[38;5;241m=\u001B[39m\u001B[38;5;28mself\u001B[39m\u001B[38;5;241m.\u001B[39mstream_channels_asis,\n\u001B[1;32m   1753\u001B[0m     interrupt_before\u001B[38;5;241m=\u001B[39minterrupt_before_,\n\u001B[1;32m   1754\u001B[0m     interrupt_after\u001B[38;5;241m=\u001B[39minterrupt_after_,\n\u001B[1;32m   1755\u001B[0m     manager\u001B[38;5;241m=\u001B[39mrun_manager,\n\u001B[1;32m   1756\u001B[0m ) \u001B[38;5;28;01mas\u001B[39;00m loop:\n\u001B[1;32m   1757\u001B[0m     \u001B[38;5;66;03m# create runner\u001B[39;00m\n\u001B[1;32m   1758\u001B[0m     runner \u001B[38;5;241m=\u001B[39m PregelRunner(\n\u001B[1;32m   1759\u001B[0m         submit\u001B[38;5;241m=\u001B[39mloop\u001B[38;5;241m.\u001B[39msubmit,\n\u001B[1;32m   1760\u001B[0m         put_writes\u001B[38;5;241m=\u001B[39mloop\u001B[38;5;241m.\u001B[39mput_writes,\n\u001B[0;32m   (...)\u001B[0m\n\u001B[1;32m   1763\u001B[0m         node_finished\u001B[38;5;241m=\u001B[39mconfig[CONF]\u001B[38;5;241m.\u001B[39mget(CONFIG_KEY_NODE_FINISHED),\n\u001B[1;32m   1764\u001B[0m     )\n\u001B[1;32m   1765\u001B[0m     \u001B[38;5;66;03m# enable subgraph streaming\u001B[39;00m\n",
      "File \u001B[0;32m~/Repos/Labs/LLM-apps-2024/.venv/lib/python3.12/site-packages/langgraph/pregel/__init__.py:1477\u001B[0m, in \u001B[0;36mstream\u001B[0;34m(self, input, config, stream_mode, output_keys, interrupt_before, interrupt_after, debug, subgraphs)\u001B[0m\n\u001B[1;32m   1475\u001B[0m \u001B[38;5;28;01mexcept\u001B[39;00m queue\u001B[38;5;241m.\u001B[39mEmpty:\n\u001B[1;32m   1476\u001B[0m     \u001B[38;5;28;01mbreak\u001B[39;00m\n\u001B[0;32m-> 1477\u001B[0m \u001B[38;5;28;01mif\u001B[39;00m subgraphs \u001B[38;5;129;01mand\u001B[39;00m \u001B[38;5;28misinstance\u001B[39m(stream_mode, \u001B[38;5;28mlist\u001B[39m):\n\u001B[1;32m   1478\u001B[0m     \u001B[38;5;28;01myield\u001B[39;00m (ns, mode, payload)\n\u001B[1;32m   1479\u001B[0m \u001B[38;5;28;01melif\u001B[39;00m \u001B[38;5;28misinstance\u001B[39m(stream_mode, \u001B[38;5;28mlist\u001B[39m):\n",
      "File \u001B[0;32m~/Repos/Labs/LLM-apps-2024/.venv/lib/python3.12/site-packages/langgraph/pregel/runner.py:58\u001B[0m, in \u001B[0;36mtick\u001B[0;34m(self, tasks, reraise, timeout, retry_policy, get_waiter)\u001B[0m\n\u001B[1;32m     51\u001B[0m     \u001B[38;5;28mself\u001B[39m\u001B[38;5;241m.\u001B[39mnode_finished \u001B[38;5;241m=\u001B[39m node_finished\n\u001B[1;32m     52\u001B[0m     \u001B[38;5;28mself\u001B[39m\u001B[38;5;241m.\u001B[39mschedule_task \u001B[38;5;241m=\u001B[39m schedule_task\n\u001B[1;32m     54\u001B[0m \u001B[38;5;28;01mdef\u001B[39;00m \u001B[38;5;21mtick\u001B[39m(\n\u001B[1;32m     55\u001B[0m     \u001B[38;5;28mself\u001B[39m,\n\u001B[1;32m     56\u001B[0m     tasks: Iterable[PregelExecutableTask],\n\u001B[1;32m     57\u001B[0m     \u001B[38;5;241m*\u001B[39m,\n\u001B[0;32m---> 58\u001B[0m     reraise: \u001B[38;5;28mbool\u001B[39m \u001B[38;5;241m=\u001B[39m \u001B[38;5;28;01mTrue\u001B[39;00m,\n\u001B[1;32m     59\u001B[0m     timeout: Optional[\u001B[38;5;28mfloat\u001B[39m] \u001B[38;5;241m=\u001B[39m \u001B[38;5;28;01mNone\u001B[39;00m,\n\u001B[1;32m     60\u001B[0m     retry_policy: Optional[RetryPolicy] \u001B[38;5;241m=\u001B[39m \u001B[38;5;28;01mNone\u001B[39;00m,\n\u001B[1;32m     61\u001B[0m     get_waiter: Optional[Callable[[], concurrent\u001B[38;5;241m.\u001B[39mfutures\u001B[38;5;241m.\u001B[39mFuture[\u001B[38;5;28;01mNone\u001B[39;00m]]] \u001B[38;5;241m=\u001B[39m \u001B[38;5;28;01mNone\u001B[39;00m,\n\u001B[1;32m     62\u001B[0m ) \u001B[38;5;241m-\u001B[39m\u001B[38;5;241m>\u001B[39m Iterator[\u001B[38;5;28;01mNone\u001B[39;00m]:\n\u001B[1;32m     63\u001B[0m     \u001B[38;5;28;01mdef\u001B[39;00m \u001B[38;5;21mwriter\u001B[39m(\n\u001B[1;32m     64\u001B[0m         task: PregelExecutableTask, writes: Sequence[\u001B[38;5;28mtuple\u001B[39m[\u001B[38;5;28mstr\u001B[39m, Any]]\n\u001B[1;32m     65\u001B[0m     ) \u001B[38;5;241m-\u001B[39m\u001B[38;5;241m>\u001B[39m \u001B[38;5;28;01mNone\u001B[39;00m:\n\u001B[1;32m     66\u001B[0m         prev_length \u001B[38;5;241m=\u001B[39m \u001B[38;5;28mlen\u001B[39m(task\u001B[38;5;241m.\u001B[39mwrites)\n",
      "File \u001B[0;32m~/Repos/Labs/LLM-apps-2024/.venv/lib/python3.12/site-packages/langgraph/pregel/retry.py:29\u001B[0m, in \u001B[0;36mrun_with_retry\u001B[0;34m(task, retry_policy)\u001B[0m\n\u001B[1;32m     21\u001B[0m \u001B[38;5;28;01mdef\u001B[39;00m \u001B[38;5;21mrun_with_retry\u001B[39m(\n\u001B[1;32m     22\u001B[0m     task: PregelExecutableTask,\n\u001B[1;32m     23\u001B[0m     retry_policy: Optional[RetryPolicy],\n\u001B[0;32m   (...)\u001B[0m\n\u001B[1;32m     26\u001B[0m     ] \u001B[38;5;241m=\u001B[39m \u001B[38;5;28;01mNone\u001B[39;00m,\n\u001B[1;32m     27\u001B[0m ) \u001B[38;5;241m-\u001B[39m\u001B[38;5;241m>\u001B[39m \u001B[38;5;28;01mNone\u001B[39;00m:\n\u001B[1;32m     28\u001B[0m \u001B[38;5;250m    \u001B[39m\u001B[38;5;124;03m\"\"\"Run a task with retries.\"\"\"\u001B[39;00m\n\u001B[0;32m---> 29\u001B[0m     retry_policy \u001B[38;5;241m=\u001B[39m task\u001B[38;5;241m.\u001B[39mretry_policy \u001B[38;5;129;01mor\u001B[39;00m retry_policy\n\u001B[1;32m     30\u001B[0m     interval \u001B[38;5;241m=\u001B[39m retry_policy\u001B[38;5;241m.\u001B[39minitial_interval \u001B[38;5;28;01mif\u001B[39;00m retry_policy \u001B[38;5;28;01melse\u001B[39;00m \u001B[38;5;241m0\u001B[39m\n\u001B[1;32m     31\u001B[0m     attempts \u001B[38;5;241m=\u001B[39m \u001B[38;5;241m0\u001B[39m\n",
      "File \u001B[0;32m~/Repos/Labs/LLM-apps-2024/.venv/lib/python3.12/site-packages/langgraph/utils/runnable.py:412\u001B[0m, in \u001B[0;36mRunnableSeq.invoke\u001B[0;34m(self, input, config, **kwargs)\u001B[0m\n\u001B[1;32m    410\u001B[0m             \u001B[38;5;28minput\u001B[39m \u001B[38;5;241m=\u001B[39m context\u001B[38;5;241m.\u001B[39mrun(step\u001B[38;5;241m.\u001B[39minvoke, \u001B[38;5;28minput\u001B[39m, config, \u001B[38;5;241m*\u001B[39m\u001B[38;5;241m*\u001B[39mkwargs)\n\u001B[1;32m    411\u001B[0m         \u001B[38;5;28;01melse\u001B[39;00m:\n\u001B[0;32m--> 412\u001B[0m             \u001B[38;5;28minput\u001B[39m \u001B[38;5;241m=\u001B[39m \u001B[43mcontext\u001B[49m\u001B[38;5;241;43m.\u001B[39;49m\u001B[43mrun\u001B[49m\u001B[43m(\u001B[49m\u001B[43mstep\u001B[49m\u001B[38;5;241;43m.\u001B[39;49m\u001B[43minvoke\u001B[49m\u001B[43m,\u001B[49m\u001B[43m \u001B[49m\u001B[38;5;28;43minput\u001B[39;49m\u001B[43m,\u001B[49m\u001B[43m \u001B[49m\u001B[43mconfig\u001B[49m\u001B[43m)\u001B[49m\n\u001B[1;32m    413\u001B[0m \u001B[38;5;66;03m# finish the root run\u001B[39;00m\n\u001B[1;32m    414\u001B[0m \u001B[38;5;28;01mexcept\u001B[39;00m \u001B[38;5;167;01mBaseException\u001B[39;00m \u001B[38;5;28;01mas\u001B[39;00m e:\n",
      "File \u001B[0;32m~/Repos/Labs/LLM-apps-2024/.venv/lib/python3.12/site-packages/langgraph/utils/runnable.py:176\u001B[0m, in \u001B[0;36mRunnableCallable.invoke\u001B[0;34m(self, input, config, **kwargs)\u001B[0m\n\u001B[1;32m    174\u001B[0m     context \u001B[38;5;241m=\u001B[39m copy_context()\n\u001B[1;32m    175\u001B[0m     context\u001B[38;5;241m.\u001B[39mrun(_set_config_context, child_config)\n\u001B[0;32m--> 176\u001B[0m     ret \u001B[38;5;241m=\u001B[39m \u001B[43mcontext\u001B[49m\u001B[38;5;241;43m.\u001B[39;49m\u001B[43mrun\u001B[49m\u001B[43m(\u001B[49m\u001B[38;5;28;43mself\u001B[39;49m\u001B[38;5;241;43m.\u001B[39;49m\u001B[43mfunc\u001B[49m\u001B[43m,\u001B[49m\u001B[43m \u001B[49m\u001B[38;5;28;43minput\u001B[39;49m\u001B[43m,\u001B[49m\u001B[43m \u001B[49m\u001B[38;5;241;43m*\u001B[39;49m\u001B[38;5;241;43m*\u001B[39;49m\u001B[43mkwargs\u001B[49m\u001B[43m)\u001B[49m\n\u001B[1;32m    177\u001B[0m \u001B[38;5;28;01mexcept\u001B[39;00m \u001B[38;5;167;01mBaseException\u001B[39;00m \u001B[38;5;28;01mas\u001B[39;00m e:\n\u001B[1;32m    178\u001B[0m     run_manager\u001B[38;5;241m.\u001B[39mon_chain_error(e)\n",
      "File \u001B[0;32m~/Repos/Labs/LLM-apps-2024/.venv/lib/python3.12/site-packages/langgraph/pregel/write.py:85\u001B[0m, in \u001B[0;36mChannelWrite._write\u001B[0;34m(self, input, config)\u001B[0m\n\u001B[1;32m     78\u001B[0m \u001B[38;5;28;01mdef\u001B[39;00m \u001B[38;5;21m_write\u001B[39m(\u001B[38;5;28mself\u001B[39m, \u001B[38;5;28minput\u001B[39m: Any, config: RunnableConfig) \u001B[38;5;241m-\u001B[39m\u001B[38;5;241m>\u001B[39m \u001B[38;5;28;01mNone\u001B[39;00m:\n\u001B[1;32m     79\u001B[0m     writes \u001B[38;5;241m=\u001B[39m [\n\u001B[1;32m     80\u001B[0m         ChannelWriteEntry(write\u001B[38;5;241m.\u001B[39mchannel, \u001B[38;5;28minput\u001B[39m, write\u001B[38;5;241m.\u001B[39mskip_none, write\u001B[38;5;241m.\u001B[39mmapper)\n\u001B[1;32m     81\u001B[0m         \u001B[38;5;28;01mif\u001B[39;00m \u001B[38;5;28misinstance\u001B[39m(write, ChannelWriteEntry) \u001B[38;5;129;01mand\u001B[39;00m write\u001B[38;5;241m.\u001B[39mvalue \u001B[38;5;129;01mis\u001B[39;00m PASSTHROUGH\n\u001B[1;32m     82\u001B[0m         \u001B[38;5;28;01melse\u001B[39;00m write\n\u001B[1;32m     83\u001B[0m         \u001B[38;5;28;01mfor\u001B[39;00m write \u001B[38;5;129;01min\u001B[39;00m \u001B[38;5;28mself\u001B[39m\u001B[38;5;241m.\u001B[39mwrites\n\u001B[1;32m     84\u001B[0m     ]\n\u001B[0;32m---> 85\u001B[0m     \u001B[38;5;28;43mself\u001B[39;49m\u001B[38;5;241;43m.\u001B[39;49m\u001B[43mdo_write\u001B[49m\u001B[43m(\u001B[49m\n\u001B[1;32m     86\u001B[0m \u001B[43m        \u001B[49m\u001B[43mconfig\u001B[49m\u001B[43m,\u001B[49m\n\u001B[1;32m     87\u001B[0m \u001B[43m        \u001B[49m\u001B[43mwrites\u001B[49m\u001B[43m,\u001B[49m\n\u001B[1;32m     88\u001B[0m \u001B[43m        \u001B[49m\u001B[38;5;28;43mself\u001B[39;49m\u001B[38;5;241;43m.\u001B[39;49m\u001B[43mrequire_at_least_one_of\u001B[49m\u001B[43m \u001B[49m\u001B[38;5;28;43;01mif\u001B[39;49;00m\u001B[43m \u001B[49m\u001B[38;5;28;43minput\u001B[39;49m\u001B[43m \u001B[49m\u001B[38;5;129;43;01mis\u001B[39;49;00m\u001B[43m \u001B[49m\u001B[38;5;129;43;01mnot\u001B[39;49;00m\u001B[43m \u001B[49m\u001B[38;5;28;43;01mNone\u001B[39;49;00m\u001B[43m \u001B[49m\u001B[38;5;28;43;01melse\u001B[39;49;00m\u001B[43m \u001B[49m\u001B[38;5;28;43;01mNone\u001B[39;49;00m\u001B[43m,\u001B[49m\n\u001B[1;32m     89\u001B[0m \u001B[43m    \u001B[49m\u001B[43m)\u001B[49m\n\u001B[1;32m     90\u001B[0m     \u001B[38;5;28;01mreturn\u001B[39;00m \u001B[38;5;28minput\u001B[39m\n",
      "File \u001B[0;32m~/Repos/Labs/LLM-apps-2024/.venv/lib/python3.12/site-packages/langgraph/pregel/write.py:126\u001B[0m, in \u001B[0;36mChannelWrite.do_write\u001B[0;34m(config, writes, require_at_least_one_of)\u001B[0m\n\u001B[1;32m    120\u001B[0m             \u001B[38;5;28;01mraise\u001B[39;00m InvalidUpdateError(\u001B[38;5;124m\"\u001B[39m\u001B[38;5;124mPASSTHROUGH value must be replaced\u001B[39m\u001B[38;5;124m\"\u001B[39m)\n\u001B[1;32m    121\u001B[0m \u001B[38;5;66;03m# split packets and entries\u001B[39;00m\n\u001B[1;32m    122\u001B[0m sends \u001B[38;5;241m=\u001B[39m [\n\u001B[1;32m    123\u001B[0m     (PUSH \u001B[38;5;28;01mif\u001B[39;00m FF_SEND_V2 \u001B[38;5;28;01melse\u001B[39;00m TASKS, packet)\n\u001B[1;32m    124\u001B[0m     \u001B[38;5;28;01mfor\u001B[39;00m packet \u001B[38;5;129;01min\u001B[39;00m writes\n\u001B[1;32m    125\u001B[0m     \u001B[38;5;28;01mif\u001B[39;00m \u001B[38;5;28misinstance\u001B[39m(packet, Send)\n\u001B[0;32m--> 126\u001B[0m ]\n\u001B[1;32m    127\u001B[0m entries \u001B[38;5;241m=\u001B[39m [write \u001B[38;5;28;01mfor\u001B[39;00m write \u001B[38;5;129;01min\u001B[39;00m writes \u001B[38;5;28;01mif\u001B[39;00m \u001B[38;5;28misinstance\u001B[39m(write, ChannelWriteEntry)]\n\u001B[1;32m    128\u001B[0m \u001B[38;5;66;03m# process entries into values\u001B[39;00m\n",
      "File \u001B[0;32m~/Repos/Labs/LLM-apps-2024/.venv/lib/python3.12/site-packages/langgraph/graph/state.py:637\u001B[0m, in \u001B[0;36m_get_state_key\u001B[0;34m(input, key)\u001B[0m\n\u001B[1;32m    633\u001B[0m \u001B[38;5;28;01melif\u001B[39;00m \u001B[38;5;28misinstance\u001B[39m(\u001B[38;5;28minput\u001B[39m, \u001B[38;5;28mdict\u001B[39m):\n\u001B[1;32m    634\u001B[0m     \u001B[38;5;28;01mif\u001B[39;00m \u001B[38;5;28mall\u001B[39m(k \u001B[38;5;129;01mnot\u001B[39;00m \u001B[38;5;129;01min\u001B[39;00m output_keys \u001B[38;5;28;01mfor\u001B[39;00m k \u001B[38;5;129;01min\u001B[39;00m \u001B[38;5;28minput\u001B[39m):\n\u001B[1;32m    635\u001B[0m         \u001B[38;5;28;01mraise\u001B[39;00m InvalidUpdateError(\n\u001B[1;32m    636\u001B[0m             \u001B[38;5;124mf\u001B[39m\u001B[38;5;124m\"\u001B[39m\u001B[38;5;124mExpected node \u001B[39m\u001B[38;5;132;01m{\u001B[39;00mkey\u001B[38;5;132;01m}\u001B[39;00m\u001B[38;5;124m to update at least one of \u001B[39m\u001B[38;5;132;01m{\u001B[39;00moutput_keys\u001B[38;5;132;01m}\u001B[39;00m\u001B[38;5;124m, got \u001B[39m\u001B[38;5;132;01m{\u001B[39;00m\u001B[38;5;28minput\u001B[39m\u001B[38;5;132;01m}\u001B[39;00m\u001B[38;5;124m\"\u001B[39m\n\u001B[0;32m--> 637\u001B[0m         )\n\u001B[1;32m    638\u001B[0m     \u001B[38;5;28;01mreturn\u001B[39;00m \u001B[38;5;28minput\u001B[39m\u001B[38;5;241m.\u001B[39mget(key, SKIP_WRITE)\n\u001B[1;32m    639\u001B[0m \u001B[38;5;28;01melif\u001B[39;00m \u001B[38;5;28misinstance\u001B[39m(\u001B[38;5;28minput\u001B[39m, Command):\n",
      "\u001B[0;31mInvalidUpdateError\u001B[0m: Expected node graph_state to update at least one of ['graph_state'], got {'graph_state_': 'Hi, this is ToBe. I am happy!'}"
     ]
    }
   ],
   "execution_count": 21
  },
  {
   "metadata": {},
   "cell_type": "markdown",
   "source": [
    "`invoke` runs the entire graph synchronously.\n",
    "\n",
    "This waits for each step to complete before moving to the next.\n",
    "\n",
    "It returns the final state of the graph after all nodes have executed.\n",
    "\n",
    "In this case, it returns the state after `node_3` has completed: \n",
    "\n",
    "```\n",
    "{'graph_state': 'Hi, this is Lance. I am sad!'}\n",
    "```"
   ],
   "id": "4fda55e1705761d3"
  }
 ],
 "metadata": {
  "kernelspec": {
   "display_name": "Python 3",
   "language": "python",
   "name": "python3"
  },
  "language_info": {
   "codemirror_mode": {
    "name": "ipython",
    "version": 2
   },
   "file_extension": ".py",
   "mimetype": "text/x-python",
   "name": "python",
   "nbconvert_exporter": "python",
   "pygments_lexer": "ipython2",
   "version": "2.7.6"
  }
 },
 "nbformat": 4,
 "nbformat_minor": 5
}
